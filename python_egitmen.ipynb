{
  "nbformat": 4,
  "nbformat_minor": 0,
  "metadata": {
    "colab": {
      "provenance": [],
      "toc_visible": true,
      "include_colab_link": true
    },
    "kernelspec": {
      "name": "python3",
      "display_name": "Python 3"
    },
    "language_info": {
      "name": "python"
    }
  },
  "cells": [
    {
      "cell_type": "markdown",
      "metadata": {
        "id": "view-in-github",
        "colab_type": "text"
      },
      "source": [
        "<a href=\"https://colab.research.google.com/github/huseyinkarakullukcu/Python/blob/main/python_egitmen.ipynb\" target=\"_parent\"><img src=\"https://colab.research.google.com/assets/colab-badge.svg\" alt=\"Open In Colab\"/></a>"
      ]
    },
    {
      "cell_type": "markdown",
      "source": [
        "# **Python Programing**"
      ],
      "metadata": {
        "id": "FtBesI394Z2P"
      }
    },
    {
      "cell_type": "markdown",
      "source": [
        " - İlk python programımızı yazıcaz\n",
        " - Yazdırma komutunu kullanıcaz\n",
        " - Aritmatik işlemleri yapabileceğiz"
      ],
      "metadata": {
        "id": "xrSXK7JW4pJQ"
      }
    },
    {
      "cell_type": "markdown",
      "source": [
        "Programlama, bilgisayara verdiğimiz talimatlardır, programlar komutlardan oluşur. Her komut bilgisayara bir işlem yapmasını söyler. Bilgisayar bu komutları birer birer çalıltırır. Komutlar;"
      ],
      "metadata": {
        "id": "43HKrMeH5CWY"
      }
    },
    {
      "cell_type": "markdown",
      "source": [
        "- hesaplama yapmak,\n",
        "- kıyaslama yapmak,\n",
        "- değişiklik yapmak\n",
        "- mesaj iletmek,\n",
        "- bilgi almak için kullanılır."
      ],
      "metadata": {
        "id": "3kMxZys95bLX"
      }
    },
    {
      "cell_type": "markdown",
      "source": [
        "Bilgisayar 2 lik sayı sistemine göre çalışmaktadır. İlk bilgisayar Enigma bir oda büyüklüğünde sadece 4 işlem yapabilmekteydi. Bu makine 1 ve 0 lar ile kodlanmıştı. Bu şekilde kodlama yapmak zor bir işti. Teknolojinin gelişmesiyle makine diline en yakın olan assembly dili geliştirildi. Burada hafıza adresleme yapılarak kodlama yapılmaktaydı. Sonra Teknoloji gelişerek daha üst seviye programlama dilleri geliştirildi. ( C, C++ vb. ). Yine Teknolojinin gelişmesiyle farklı icatların çıkmasıyla(transistörler, ekran kartları, hafıza uzayının artması vb.) Yüksek seviyeli programlama dilleri geliştirildi. Bu diller Nesne Yönetimli Programlama (OOP) yapıyor ve öğrenmesi daha kolay programlama dillleridir. (C#, java, python)"
      ],
      "metadata": {
        "id": "XFcunhJy5_ew"
      }
    },
    {
      "cell_type": "markdown",
      "source": [
        "Peki bir bilgisayar ikili sayı sistemine göre çalışıyorsa, yüksek seviyeli programlama dillerinde yazılan kodları nasıl anlar?\n",
        " - Arada Yorumlayıcı ve derleyiciler bulunmaktadır. Bunlar o kodları makine diline çevirmektedir."
      ],
      "metadata": {
        "id": "rsA1gAZ5_xCJ"
      }
    },
    {
      "cell_type": "markdown",
      "source": [
        "Metni ekrana yazdıran print komutunu tanıyalım. Print komutu ile yazdığımız metni çıktı olarak ekrana yazdırma anlamına gelir."
      ],
      "metadata": {
        "id": "fOCToZMeATaw"
      }
    },
    {
      "cell_type": "code",
      "source": [
        "print(\"Hello World!\")"
      ],
      "metadata": {
        "colab": {
          "base_uri": "https://localhost:8080/"
        },
        "id": "fiAvv5s7BIrg",
        "outputId": "0cd8964c-42ca-44d6-d0af-b0ae35242b5f"
      },
      "execution_count": null,
      "outputs": [
        {
          "output_type": "stream",
          "name": "stdout",
          "text": [
            "Hello World!\n"
          ]
        }
      ]
    },
    {
      "cell_type": "markdown",
      "source": [
        "Komut burada görüldüğü gibi yazımalıdır. Çift tırnak arasına yazdığımız her değeri olduğu gibi çıktı olarak ekrana yazar. Tek tırnak ' da kullanabiliriz."
      ],
      "metadata": {
        "id": "B8TpUDE0Bcog"
      }
    },
    {
      "cell_type": "markdown",
      "source": [
        "Fakat ekrana yazacağımız bilgi bir metinsel ifade ise tırnak kullanırız. Metinsel ifadeyi tırnak kullanmadan yazamayız. Hata verir."
      ],
      "metadata": {
        "id": "TVyccfD0Bs8J"
      }
    },
    {
      "cell_type": "code",
      "source": [
        "print(Hello World!)"
      ],
      "metadata": {
        "colab": {
          "base_uri": "https://localhost:8080/",
          "height": 106
        },
        "id": "uXr_jdOfB4uS",
        "outputId": "04051cef-829b-4c54-dd50-2c2163f27a93"
      },
      "execution_count": null,
      "outputs": [
        {
          "output_type": "error",
          "ename": "SyntaxError",
          "evalue": "invalid syntax. Perhaps you forgot a comma? (<ipython-input-2-898d2b40ca9e>, line 1)",
          "traceback": [
            "\u001b[0;36m  File \u001b[0;32m\"<ipython-input-2-898d2b40ca9e>\"\u001b[0;36m, line \u001b[0;32m1\u001b[0m\n\u001b[0;31m    print(Hello World!)\u001b[0m\n\u001b[0m          ^\u001b[0m\n\u001b[0;31mSyntaxError\u001b[0m\u001b[0;31m:\u001b[0m invalid syntax. Perhaps you forgot a comma?\n"
          ]
        }
      ]
    },
    {
      "cell_type": "markdown",
      "source": [
        "Sysntax - söz dizim hatası alırız. Çünkü yazım yanlışı yaptık."
      ],
      "metadata": {
        "id": "5bnLYYq0B_qo"
      }
    },
    {
      "cell_type": "code",
      "source": [
        "print(\"hi world!\")"
      ],
      "metadata": {
        "colab": {
          "base_uri": "https://localhost:8080/"
        },
        "id": "glbGcPBDCQvg",
        "outputId": "4babfa62-9572-4eb5-e48d-518c3962f1ef"
      },
      "execution_count": null,
      "outputs": [
        {
          "output_type": "stream",
          "name": "stdout",
          "text": [
            "hi world!\n"
          ]
        }
      ]
    },
    {
      "cell_type": "code",
      "source": [
        "print(\"Merhaba Arkadaşlar!\")"
      ],
      "metadata": {
        "colab": {
          "base_uri": "https://localhost:8080/"
        },
        "id": "YwALH8qdCUUg",
        "outputId": "2135b7ef-7bf3-4150-bb16-025805927865"
      },
      "execution_count": null,
      "outputs": [
        {
          "output_type": "stream",
          "name": "stdout",
          "text": [
            "Merhaba Arkadaşlar!\n"
          ]
        }
      ]
    },
    {
      "cell_type": "markdown",
      "source": [
        "Özetle, metin yazdırmak istiyorsak metnin tamamı (çift ya da tek) tırnak içine alınmalıdır, Python metni doğru anlamayacaktır.\n",
        "\n",
        "Şimdi herkes ekrana çıktı olarak bir emoji yazdırın kodu yazınız."
      ],
      "metadata": {
        "id": "wVPbkeKMC3qw"
      }
    },
    {
      "cell_type": "code",
      "source": [
        "print(':)')"
      ],
      "metadata": {
        "colab": {
          "base_uri": "https://localhost:8080/"
        },
        "id": "fiu6wNZqDpjJ",
        "outputId": "73576d78-a69e-4c2d-def0-4ec52ce289e3"
      },
      "execution_count": null,
      "outputs": [
        {
          "output_type": "stream",
          "name": "stdout",
          "text": [
            ":)\n"
          ]
        }
      ]
    },
    {
      "cell_type": "markdown",
      "source": [
        "# **Çoklu Komutlar (Multiple Commands)**"
      ],
      "metadata": {
        "id": "gGs5I5yND9Xq"
      }
    },
    {
      "cell_type": "markdown",
      "source": [
        "Arka arkaya yazılan birden çok komut, ilk satırdan sonuncuya doğru sırayla yürütülür. Örnek;"
      ],
      "metadata": {
        "id": "2y3c4OHBEIih"
      }
    },
    {
      "cell_type": "code",
      "source": [
        "print(\"Python ile uygulama geliştirme dersine hoş geldiniz.\")\n",
        "print(\"İlk olarak print komutunun pratiğini yapıyoruz.\")\n",
        "print(\"3 satırlık komuttan oluşan bu syntax, bakalım ekrana ne yazdıracak?\")"
      ],
      "metadata": {
        "colab": {
          "base_uri": "https://localhost:8080/"
        },
        "id": "Dcxaf18OEdTh",
        "outputId": "01c8a50b-a01b-4043-e68c-026777d2a672"
      },
      "execution_count": null,
      "outputs": [
        {
          "output_type": "stream",
          "name": "stdout",
          "text": [
            "Python ile uygulama geliştirme dersine hoş geldiniz.\n",
            "İlk olarak print komutunun pratiğini yapıyoruz.\n",
            "3 satırlık komuttan oluşan bu syntax, bakalım ekrana ne yazdıracak?\n"
          ]
        }
      ]
    },
    {
      "cell_type": "markdown",
      "source": [
        "**Alıştırma;**\n",
        "- Sınıftakilerin isimlerini alfabetik olarak sırayla tek tek ekrana yazan kodu yazınız."
      ],
      "metadata": {
        "id": "iYJZpB49FBjA"
      }
    },
    {
      "cell_type": "code",
      "source": [
        "print(\"Musab\")\n",
        "print(\"Ali\")\n",
        "print(\"Esad\")\n",
        "print(\"Burak\")"
      ],
      "metadata": {
        "colab": {
          "base_uri": "https://localhost:8080/"
        },
        "id": "N42S9ZdNFOW5",
        "outputId": "58f43618-82dc-429d-ce7d-a2e2b26787a5"
      },
      "execution_count": null,
      "outputs": [
        {
          "output_type": "stream",
          "name": "stdout",
          "text": [
            "Musab\n",
            "Ali\n",
            "Esad\n",
            "Burak\n"
          ]
        }
      ]
    },
    {
      "cell_type": "markdown",
      "source": [
        "**Alıştırma;**\n",
        "- Aşağıdaki şiiri ***göründüğü*** gibi ekrana yazdıralım\n",
        "\n",
        "    Ne şair yaş döker, ne aşık ağlar,\n",
        "    \n",
        "    Tarihe karıştı eski sevdalar.\n",
        "\n",
        "    Beyhude seslenir, beyhude çağlar,\n",
        "\n",
        "    Bir sola, bir sağa çoban çeşmesi...\n",
        "\n",
        "\n",
        "    "
      ],
      "metadata": {
        "id": "HR6jQOyqFhU4"
      }
    },
    {
      "cell_type": "markdown",
      "source": [
        "# **Aritmatik İşlemler (Arithmatic Operations)**"
      ],
      "metadata": {
        "id": "YNoU7N5nGnSC"
      }
    },
    {
      "cell_type": "markdown",
      "source": [
        "Print komutunun içine aritmetik operatorler de koyabiliriz. Çalıştırdigimizda işlemin sonucunu yazdırdigini gorecegiz."
      ],
      "metadata": {
        "id": "wYrt2d2GG3rZ"
      }
    },
    {
      "cell_type": "code",
      "source": [
        "print(12 + 6)\n",
        "print(14 - 7)\n",
        "print(5 - 9)\n",
        "print(48 / 4)\n",
        "print(2 + 2 * 10)"
      ],
      "metadata": {
        "colab": {
          "base_uri": "https://localhost:8080/"
        },
        "id": "AoQTqw9c-T_Z",
        "outputId": "95503ba4-a877-4168-b257-1f720bb126f1"
      },
      "execution_count": null,
      "outputs": [
        {
          "output_type": "stream",
          "name": "stdout",
          "text": [
            "18\n",
            "7\n",
            "-4\n",
            "12.0\n"
          ]
        }
      ]
    },
    {
      "cell_type": "markdown",
      "source": [
        "Yukarıdaki aritmetik işlemlerin etrafındaki tırnak işaretlerinin eksikliğine dikkat edin. Tırnak işaretleri dizeleri(string) metin belirtmek için kullanılır. Programlama bağlamında dizeler karakter dizileridir. Harflerden, rakamlardan ve noktalama işaretleri gibi diğer karakter türlerinden oluşabilirler."
      ],
      "metadata": {
        "id": "G0oXZ95G-xRA"
      }
    },
    {
      "cell_type": "markdown",
      "source": [
        "Dizeler, genel olarak anladığımız şekliyle yalnızca kelimeler değildir; bunun yerine tek bir dize, birden fazla tam cümle kadar uzun olabilir. Dizeler(String) genellikle tam olarak yazıldıkları gibi ekrana yazdırılır.\n",
        "Kodun ikinci satırında Python işlemin sonucunu hesaplamaz, bunun yerine işlemin kendisini bir dize olarak yazdırır."
      ],
      "metadata": {
        "id": "N0iwBIAh_YfH"
      }
    },
    {
      "cell_type": "markdown",
      "source": [
        "**Temel Veri Türleri (Basic Data Types)**\n",
        "- String\n",
        "- Integer\n",
        "- Float\n",
        "- Boolean"
      ],
      "metadata": {
        "id": "XecoeZ7rINLI"
      }
    },
    {
      "cell_type": "markdown",
      "source": [
        "Yukarıdaki aritmetik işlemlerin çevresinde tırnak işareti bulunmadığına dikkat edin.\n",
        "\n",
        "Tırnak işaretleri, string diye belirtilen veri türünü (data type) belirtmek için kullanılır.\n",
        "\n",
        "Programlamada, stringler karakter dizileridir. sequences of characters\n",
        "\n",
        "Harf, sayı, noktalama işareti gibi karakter türlerinden oluşabilir.\n",
        "\n",
        "Stringler, yalnızca kelimeler değildir. tek bir string, birden çok cümleden olusabilir. Stringler genellikle tam olarak yazıldığı gibi print edilir. Bu nedenle, aşağıdaki iki komut oldukça farklı iki sonuç üretir: print(5 + 5 * 4) print(\"5 + 5 * 4\")"
      ],
      "metadata": {
        "id": "m_Z1xMp0IwM_"
      }
    },
    {
      "cell_type": "code",
      "source": [
        "print(5 + 5 * 4)\n",
        "print(\"5 + 5 * 4\")"
      ],
      "metadata": {
        "colab": {
          "base_uri": "https://localhost:8080/"
        },
        "id": "CQN_-B4w_GmA",
        "outputId": "3108ce31-90f8-4d73-82dd-487e3b88cd75"
      },
      "execution_count": null,
      "outputs": [
        {
          "output_type": "stream",
          "name": "stdout",
          "text": [
            "25\n",
            "5 + 5 * 4\n"
          ]
        }
      ]
    },
    {
      "cell_type": "markdown",
      "source": [
        "Python ikinci kod satırında, işlemin sonucunu hesaplamaz, bunun yerine işlemin kendisini bir string olarak print eder. Böylece, stringler, içeriklerine herhangi bir atıfta bulunulmadan, yazıldığı gibi yazdırılır. write edildigi gibi print edilir."
      ],
      "metadata": {
        "id": "8rZBkfXjIwMQ"
      }
    },
    {
      "cell_type": "markdown",
      "source": [
        "# **Commenting**\n",
        "\n",
        "Kare işareti, hash, hashtag veya sayı işareti olarak da bilinen # ile başlayan herhangi bir satır bir yorumdur. Bu, # sembolünden sonraki satırdaki herhangi bir metnin, programın işleyişini hiçbir şekilde etkilemeyeceği anlamına gelir. Python basitçe görmezden gelecektir.\n",
        "\n",
        "Comments (yorumlar), hem programcının kendisine, hem de kodu okuyan diğer kişilere programın nasıl çalıştığını açıklamak için kullanılır.\n",
        "\n",
        "Bu programda comment, kodda yapılan hesaplamayı açıklar, kod calistirildiginda comment kismi gorunmez"
      ],
      "metadata": {
        "id": "nG1-sHUgJpAA"
      }
    },
    {
      "cell_type": "code",
      "source": [
        "print(\"500 dolar kaç türk lirası eder?\")\n",
        "# 08/07/2024 tarihli 1USD = 32 TL kuru baz alınmıştır\n",
        "print(500*32)"
      ],
      "metadata": {
        "colab": {
          "base_uri": "https://localhost:8080/"
        },
        "id": "o6hpT1gDJ9nY",
        "outputId": "f7abced4-08a8-4eb9-ff47-aceb3cec7e95"
      },
      "execution_count": null,
      "outputs": [
        {
          "output_type": "stream",
          "name": "stdout",
          "text": [
            "500 dolar kaç türk lirası eder?\n",
            "16000\n"
          ]
        }
      ]
    },
    {
      "cell_type": "markdown",
      "source": [
        "kod satirinin devamina/ sonuna da kisaca comment eklenebilir"
      ],
      "metadata": {
        "id": "vaDNiDZjKXSg"
      }
    },
    {
      "cell_type": "code",
      "source": [
        "print(\"400 euronun tl karşılığı: \")\n",
        "print(400*35) # 1 € = 35 ₺ 8/7/2024"
      ],
      "metadata": {
        "colab": {
          "base_uri": "https://localhost:8080/"
        },
        "id": "bihUN7V1KYLw",
        "outputId": "4516f2a5-744e-49ed-e2eb-bfdd5d250df6"
      },
      "execution_count": null,
      "outputs": [
        {
          "output_type": "stream",
          "name": "stdout",
          "text": [
            "400 euronun tl karşılığı: \n",
            "14000\n"
          ]
        }
      ]
    },
    {
      "cell_type": "code",
      "source": [
        "print(\"Bir yıl kaç saattir: \")\n",
        "#1 yılda 365 gün vardır ve 24 saat bir gündür\n",
        "print(365*24)"
      ],
      "metadata": {
        "colab": {
          "base_uri": "https://localhost:8080/"
        },
        "id": "oTc01qHaK2ex",
        "outputId": "8295d628-6f9b-446d-f7f8-2f279741bc25"
      },
      "execution_count": null,
      "outputs": [
        {
          "output_type": "stream",
          "name": "stdout",
          "text": [
            "Bir yıl kaç saattir: \n",
            "8760\n"
          ]
        }
      ]
    },
    {
      "cell_type": "markdown",
      "source": [
        "Şuana kadar çift tırnak kullandık. Python tek tırnağı da kabul eder. Çıktı olarak tırnak işaretini de yazdırmak istersek aşağıdaki gibi yapmalıyız."
      ],
      "metadata": {
        "id": "JhO5CGEWMD-S"
      }
    },
    {
      "cell_type": "code",
      "source": [
        "print('\"Hemen geri gel!\" diye bağırdı polis memuru.')"
      ],
      "metadata": {
        "colab": {
          "base_uri": "https://localhost:8080/"
        },
        "id": "4mrMvcgkMTmK",
        "outputId": "b197e8f8-5fbd-48a7-a3bd-54417a012620"
      },
      "execution_count": null,
      "outputs": [
        {
          "output_type": "stream",
          "name": "stdout",
          "text": [
            "\"Hemen geri gel!\" diye bağırdı polis memuru\n"
          ]
        }
      ]
    },
    {
      "cell_type": "code",
      "source": [
        "print(\"Ahmet'in kalemi bende.\")"
      ],
      "metadata": {
        "colab": {
          "base_uri": "https://localhost:8080/"
        },
        "id": "8lMfBDACMmgC",
        "outputId": "e82ce1a2-99b9-48aa-c219-860a9c1641a7"
      },
      "execution_count": null,
      "outputs": [
        {
          "output_type": "stream",
          "name": "stdout",
          "text": [
            "Ahmet'in kalemi bende.\n"
          ]
        }
      ]
    },
    {
      "cell_type": "code",
      "source": [
        "print('Merhabalar. Nasılsınız?')"
      ],
      "metadata": {
        "colab": {
          "base_uri": "https://localhost:8080/"
        },
        "id": "1DdtDmpUMtwZ",
        "outputId": "92e5698a-a711-4f44-a643-7a241c181e8d"
      },
      "execution_count": null,
      "outputs": [
        {
          "output_type": "stream",
          "name": "stdout",
          "text": [
            "Merhabalar. Nasılsınız?\n"
          ]
        }
      ]
    },
    {
      "cell_type": "markdown",
      "source": [
        "print(\"Merhabalar arkadalar\") ekrana bu şekilde yazdıran kodu yazınız."
      ],
      "metadata": {
        "id": "DhH5QZ8YNGiw"
      }
    },
    {
      "cell_type": "code",
      "source": [
        "print('print(\"Merhabalar arkadaşlar!\")')"
      ],
      "metadata": {
        "colab": {
          "base_uri": "https://localhost:8080/"
        },
        "id": "FrQigO44NRtS",
        "outputId": "4999c076-f35b-4f42-825c-072d4e5c3284"
      },
      "execution_count": null,
      "outputs": [
        {
          "output_type": "stream",
          "name": "stdout",
          "text": [
            "print(\"Merhabalar arkadaşlar!\")\n"
          ]
        }
      ]
    },
    {
      "cell_type": "markdown",
      "source": [
        "**Temel Veri Türleri**\n",
        "  - String: yazı türü\n",
        "  - Integer: sayı türü\n",
        "  - Float: ondalıklı sayı türü\n",
        "  - Boolena: True False"
      ],
      "metadata": {
        "id": "BUtxYUzmNs8K"
      }
    },
    {
      "cell_type": "code",
      "source": [
        "print(25)\n",
        "print(\"25\")"
      ],
      "metadata": {
        "colab": {
          "base_uri": "https://localhost:8080/"
        },
        "id": "vh2lGpYOTyZY",
        "outputId": "9aff42fc-08b1-48c6-a331-be35fe4e478d"
      },
      "execution_count": null,
      "outputs": [
        {
          "output_type": "stream",
          "name": "stdout",
          "text": [
            "25\n",
            "25\n"
          ]
        }
      ]
    },
    {
      "cell_type": "code",
      "source": [
        "#bu satır yorum satırıdır, python bu satırı okumaz, alt satıra geçer"
      ],
      "metadata": {
        "id": "1YWkm-GsT34h"
      },
      "execution_count": null,
      "outputs": []
    },
    {
      "cell_type": "markdown",
      "source": [
        "**Alıştırma;**\n",
        " - 1 saatte kaç saniye vardır?"
      ],
      "metadata": {
        "id": "b1jPkS1LT_nx"
      }
    },
    {
      "cell_type": "code",
      "source": [
        "print(1*60*60)"
      ],
      "metadata": {
        "colab": {
          "base_uri": "https://localhost:8080/"
        },
        "id": "OxLUOPrUUHyK",
        "outputId": "73a9ff17-d18a-41cb-bbbf-1ecdfbcb4238"
      },
      "execution_count": null,
      "outputs": [
        {
          "output_type": "stream",
          "name": "stdout",
          "text": [
            "3600\n"
          ]
        }
      ]
    },
    {
      "cell_type": "markdown",
      "source": [
        "**Alıştırma:**\n",
        " - 5 yıl kaç gündür?"
      ],
      "metadata": {
        "id": "1N_Xv_dsUWPp"
      }
    },
    {
      "cell_type": "code",
      "source": [
        "print(365*5)"
      ],
      "metadata": {
        "colab": {
          "base_uri": "https://localhost:8080/"
        },
        "id": "tdHk8FWVUcYJ",
        "outputId": "05ab8a18-b8a2-45e6-be1d-b9b0a4165ebe"
      },
      "execution_count": null,
      "outputs": [
        {
          "output_type": "stream",
          "name": "stdout",
          "text": [
            "1825\n"
          ]
        }
      ]
    },
    {
      "cell_type": "markdown",
      "source": [
        "- Kodu düzeltin."
      ],
      "metadata": {
        "id": "Q_Easr4BUkso"
      }
    },
    {
      "cell_type": "code",
      "source": [
        "print(\"Sabah karşılaştığım arkadaşım bana doğru döndü \"Merhaba\"dedi\")"
      ],
      "metadata": {
        "colab": {
          "base_uri": "https://localhost:8080/",
          "height": 106
        },
        "id": "t_mXHbA-UnjS",
        "outputId": "3056387f-a80f-4da8-d57d-f9cbcad736f4"
      },
      "execution_count": null,
      "outputs": [
        {
          "output_type": "error",
          "ename": "SyntaxError",
          "evalue": "invalid syntax. Perhaps you forgot a comma? (<ipython-input-19-486223b16bfe>, line 1)",
          "traceback": [
            "\u001b[0;36m  File \u001b[0;32m\"<ipython-input-19-486223b16bfe>\"\u001b[0;36m, line \u001b[0;32m1\u001b[0m\n\u001b[0;31m    print(\"Sabah karşılaştığım arkadaşım bana doğru döndü \"Merhaba\"dedi\")\u001b[0m\n\u001b[0m          ^\u001b[0m\n\u001b[0;31mSyntaxError\u001b[0m\u001b[0;31m:\u001b[0m invalid syntax. Perhaps you forgot a comma?\n"
          ]
        }
      ]
    },
    {
      "cell_type": "markdown",
      "source": [
        "**String içinde tırnak işareti kullanmak için;**\n",
        "\n",
        " 1- Açılış ve kapanışta tek tırnak kullanırsak string içinde çift tırnağı karakter olarak kullanabiliriz."
      ],
      "metadata": {
        "id": "GsF-SZNxU7Xh"
      }
    },
    {
      "cell_type": "code",
      "source": [
        "print('Biraz ilerledikten sonra arkasini dondu ve \"Hadi, acele edin!\" diye seslendi.')"
      ],
      "metadata": {
        "colab": {
          "base_uri": "https://localhost:8080/"
        },
        "id": "YWZG8SOkVMLz",
        "outputId": "949c4d83-de2c-4e25-ddc1-91d314d61a06"
      },
      "execution_count": null,
      "outputs": [
        {
          "output_type": "stream",
          "name": "stdout",
          "text": [
            "Biraz ilerledikten sonra arkasini dondu ve \"Hadi, acele edin!\" diye seslendi.\n"
          ]
        }
      ]
    },
    {
      "cell_type": "code",
      "source": [
        "print(\"Biraz ilerledikten sonra arkasini dondu ve 'Hadi, acele edin!' diye seslendi.\")"
      ],
      "metadata": {
        "colab": {
          "base_uri": "https://localhost:8080/"
        },
        "id": "6j2aiygmVYRy",
        "outputId": "518740be-cbec-4691-c2f8-d1dcf46c29cc"
      },
      "execution_count": null,
      "outputs": [
        {
          "output_type": "stream",
          "name": "stdout",
          "text": [
            "Biraz ilerledikten sonra arkasini dondu ve 'Hadi, acele edin!' diye seslendi.\n"
          ]
        }
      ]
    },
    {
      "cell_type": "markdown",
      "source": [
        "**Alistirma:**\n",
        "\n",
        "Ciktisi asagidaki metin olan python kodunu yaziniz.\n",
        "\n",
        "print(\"Hello World!\")"
      ],
      "metadata": {
        "id": "sbri8lC_VsiR"
      }
    },
    {
      "cell_type": "code",
      "source": [
        "#Hüseyin\n",
        "print('print(\"Hello World!\")')"
      ],
      "metadata": {
        "colab": {
          "base_uri": "https://localhost:8080/"
        },
        "id": "MtbjnnuGVuXS",
        "outputId": "42e3a8db-f766-4fc1-cb7f-9feb5c7e92ee"
      },
      "execution_count": null,
      "outputs": [
        {
          "output_type": "stream",
          "name": "stdout",
          "text": [
            "print(\"Hello World!\")\n"
          ]
        }
      ]
    },
    {
      "cell_type": "markdown",
      "source": [
        "**String İçinde tırnak işareti kullanmak için;**\n",
        "\n",
        " 2- Kaçma sembolleri \\ kullanarak string içerisinde tırnak işareti kullanabiliriz."
      ],
      "metadata": {
        "id": "dvl-rH-rV-Uh"
      }
    },
    {
      "cell_type": "code",
      "source": [
        "print(\"Biraz ilerledikten sonra arkasini dondu ve \\\"Hadi, acele edin!\\\" diye seslendi.\")"
      ],
      "metadata": {
        "colab": {
          "base_uri": "https://localhost:8080/"
        },
        "id": "bnJRWYGZXNQ6",
        "outputId": "5652a511-e1d8-4120-ec54-eda79ab97160"
      },
      "execution_count": null,
      "outputs": [
        {
          "output_type": "stream",
          "name": "stdout",
          "text": [
            "Biraz ilerledikten sonra arkasini dondu ve \"Hadi, acele edin!\" diye seslendi.\n"
          ]
        }
      ]
    },
    {
      "cell_type": "markdown",
      "source": [
        "3- String i 3 ader tırnak işaretiyle başlayıp bitirerek string içinde tırnak işareti koyabiliriz."
      ],
      "metadata": {
        "id": "L3Xk4wByXSbR"
      }
    },
    {
      "cell_type": "code",
      "source": [
        "print(\"\"\"Biraz ilerledikten\n",
        " sonra arkasini dondu ve\n",
        " \"Hadi, acele edin!\" diye\n",
        " seslendi.\"\"\")"
      ],
      "metadata": {
        "colab": {
          "base_uri": "https://localhost:8080/"
        },
        "id": "UnNA80bZXgUS",
        "outputId": "82a2e942-86fd-45d5-9849-ce57f997e768"
      },
      "execution_count": null,
      "outputs": [
        {
          "output_type": "stream",
          "name": "stdout",
          "text": [
            "Biraz ilerledikten\n",
            " sonra arkasini dondu ve\n",
            " \"Hadi, acele edin!\" diye\n",
            " seslendi.\n"
          ]
        }
      ]
    },
    {
      "cell_type": "code",
      "source": [
        "print('''Biraz ilerledikten sonra arkasini dondu ve\n",
        " \"Hadi, acele edin!\" diye  seslendi.''')"
      ],
      "metadata": {
        "colab": {
          "base_uri": "https://localhost:8080/"
        },
        "id": "krTDbssHXn-x",
        "outputId": "eafe58d2-5913-458f-c6dd-63b556256ba5"
      },
      "execution_count": null,
      "outputs": [
        {
          "output_type": "stream",
          "name": "stdout",
          "text": [
            "Biraz ilerledikten sonra arkasini dondu ve\n",
            " \"Hadi, acele edin!\" diye  seslendi.\n"
          ]
        }
      ]
    },
    {
      "cell_type": "markdown",
      "source": [
        "# **Kullanıcıdan Bilgi Alma (Input)**\n",
        "\n",
        "input, kullanıcının programa verdiği herhangi bir bilgiyi ifade eder. Spesifik olarak, Python input komutu, kullanıcı tarafından yazılan bir input satırında bilgiyi alir.\n",
        "\n",
        "Ayrıca, kullanıcıdan input istemek için bir mesaj/soru görüntülemek için de kullanılabilir.\n",
        "\n",
        "Aşağıdaki program, input komutu ile kullanıcının adını okur. Daha sonra print komutuyla yazdırır:"
      ],
      "metadata": {
        "id": "ERjVXK2oXrt6"
      }
    },
    {
      "cell_type": "code",
      "source": [
        "name = input(\"İsminiz nedir? \")"
      ],
      "metadata": {
        "colab": {
          "base_uri": "https://localhost:8080/"
        },
        "id": "pUuE8IFWX9hp",
        "outputId": "46ae329c-298f-4a7c-ccb4-9fe49d27cd39"
      },
      "execution_count": null,
      "outputs": [
        {
          "name": "stdout",
          "output_type": "stream",
          "text": [
            "İsminiz nedir? Hüseyin\n"
          ]
        }
      ]
    },
    {
      "cell_type": "code",
      "source": [
        "print(name)"
      ],
      "metadata": {
        "colab": {
          "base_uri": "https://localhost:8080/"
        },
        "id": "zRIabrbkYNwC",
        "outputId": "0469e03c-b9ac-45f1-8721-ff896f3b5d58"
      },
      "execution_count": null,
      "outputs": [
        {
          "output_type": "stream",
          "name": "stdout",
          "text": [
            "Hüseyin\n"
          ]
        }
      ]
    },
    {
      "cell_type": "code",
      "source": [
        "name = input(\"İsminiz nedir? \")\n",
        "print(\"Merhabalar \" + name)"
      ],
      "metadata": {
        "colab": {
          "base_uri": "https://localhost:8080/"
        },
        "id": "mGNlI6lBYc2i",
        "outputId": "df08c8c7-fb9b-4b31-c56e-24a8bff83ec0"
      },
      "execution_count": null,
      "outputs": [
        {
          "output_type": "stream",
          "name": "stdout",
          "text": [
            "İsminiz nedir? Hüseyin\n",
            "Merhabalar Hüseyin\n"
          ]
        }
      ]
    },
    {
      "cell_type": "code",
      "source": [
        "age = input(\"Yaşınızı giriniz: \")\n",
        "print(age)"
      ],
      "metadata": {
        "colab": {
          "base_uri": "https://localhost:8080/"
        },
        "id": "349rASMBYtT4",
        "outputId": "96f82eb3-609c-434a-d142-7aaa197023d1"
      },
      "execution_count": null,
      "outputs": [
        {
          "output_type": "stream",
          "name": "stdout",
          "text": [
            "Yaşınızı giriniz: 40\n",
            "40\n"
          ]
        }
      ]
    },
    {
      "cell_type": "code",
      "source": [
        "isim = input(\"İsminizi giriniz: \")\n",
        "soyisim = input(\"Soyisminizi giriniz: \")\n",
        "dogum = input(\"Doğum tarihinizi giriniz: \")"
      ],
      "metadata": {
        "colab": {
          "base_uri": "https://localhost:8080/"
        },
        "id": "LrLcwblsY93K",
        "outputId": "d4be2c8b-4899-457a-fc81-d9976103916b"
      },
      "execution_count": null,
      "outputs": [
        {
          "name": "stdout",
          "output_type": "stream",
          "text": [
            "İsminizi giriniz: Hüseyin\n",
            "Soyisminizi giriniz: Kara\n",
            "Doğum tarihinizi giriniz: 08/08/2084\n"
          ]
        }
      ]
    },
    {
      "cell_type": "code",
      "source": [
        "print(isim)\n",
        "print(soyisim)\n",
        "print(dogum)"
      ],
      "metadata": {
        "colab": {
          "base_uri": "https://localhost:8080/"
        },
        "id": "1illg_MoZNZk",
        "outputId": "5f6303d9-16f7-43d9-8ff3-bfb57607dfa2"
      },
      "execution_count": null,
      "outputs": [
        {
          "output_type": "stream",
          "name": "stdout",
          "text": [
            "Hüseyin\n",
            "Kara\n",
            "08/08/2084\n"
          ]
        }
      ]
    },
    {
      "cell_type": "code",
      "source": [
        "print(\"Merhaba arkadaşlar, benim adım \"+ isim)\n",
        "print(\"Soy ismim ise \" + soyisim)\n",
        "print(\"Doğum tarihim \" + dogum)"
      ],
      "metadata": {
        "colab": {
          "base_uri": "https://localhost:8080/"
        },
        "id": "tIPa8HbUZffi",
        "outputId": "537ee1a6-86d0-443c-fbd9-faa137edca9e"
      },
      "execution_count": null,
      "outputs": [
        {
          "output_type": "stream",
          "name": "stdout",
          "text": [
            "Merhaba arkadaşlar, benim adım Hüseyin\n",
            "Soy ismim ise Kara\n",
            "Doğum tarihim 08/08/2084\n"
          ]
        }
      ]
    },
    {
      "cell_type": "markdown",
      "source": [
        "Bu programın çıktısı kısmen kullanıcıdan gelen input'a bağlıdır. User, input olarak ne girerse, sonuc olarak da o print edilir.\n",
        "\n",
        "Bu kodlamadaki name bir değişkendir/variable'dir. Codingde variable/değişken, bir string/dize veya number/sayı gibi bazı değerlerin store/saklandığı bir location/konumdur. Bu değeri/value'yu daha sonra kullanabilir ve değiştirebiliriz."
      ],
      "metadata": {
        "id": "gzx8cKtWZ3EK"
      }
    },
    {
      "cell_type": "markdown",
      "source": [
        "# **Değişkenleri İsimlendirme (Naming variables)**\n",
        "\n",
        "Prensipte, variable'a istedigimiz her ismi verebiliriz, ancak Python dilinde belirtilen belirli sınırlar vardir. Bu sinirlar içinde özgürce adlandırabiliriz.\n",
        "\n",
        "Değişkenleri İngilizce olarak adlandırmak yaygın bir uluslararası programlama uygulamasıdır, ancak programcının ana dili gibi diğer dillerde değişkenlerin adlandırıldığı kodlarla karşılaşabilirsiniz. Değişkenin adının içeriği üzerinde doğrudan bir etkisi yoktur, bu nedenle adı bu anlamda önemli değildir. Bununla birlikte, değişkenlerin mantıksal olarak ve İngilizce olarak adlandırılması, kodun nasıl çalıştığını anlamada genellikle yardımcı olabilir."
      ],
      "metadata": {
        "id": "CPsrsCX3Z-W7"
      }
    },
    {
      "cell_type": "code",
      "source": [
        "sehir = input(\"Kaç yaşındasınız?\") #bu şekilde isimlendirme mantıklı olmaz"
      ],
      "metadata": {
        "id": "CaxVfnyyaTVS"
      },
      "execution_count": null,
      "outputs": []
    },
    {
      "cell_type": "markdown",
      "source": [
        "**Exercise**\n",
        "\n",
        "İsmin nedir? Ali\n",
        "\n",
        "Merhaba Ali\n",
        "\n",
        "Ali hosgeldin"
      ],
      "metadata": {
        "id": "wlD1Bhwqah4i"
      }
    },
    {
      "cell_type": "markdown",
      "source": [
        "# Referencing a variable\n",
        "\n",
        "Bir variable'i istedigimiz sayida kullanabiliriz"
      ],
      "metadata": {
        "id": "h8E_qh7jarmT"
      }
    },
    {
      "cell_type": "code",
      "source": [
        "age = input(\"Merhaba dostum, kac yasindasin? \")\n",
        "print(\"Vay be! Demek \" + age+  \" yasindasin.\")\n",
        "print(\"Python ogrenmek icin \" +age+ \" yas biraz erken degil mi sence de?\")"
      ],
      "metadata": {
        "id": "cPRPyhERa007",
        "outputId": "d423fafb-06e6-4cd9-88d2-c4008f3f15d0",
        "colab": {
          "base_uri": "https://localhost:8080/"
        }
      },
      "execution_count": null,
      "outputs": [
        {
          "output_type": "stream",
          "name": "stdout",
          "text": [
            "Merhaba dostum, kac yasindasin? 40\n",
            "Vay be! Demek 40 yasindasin.\n",
            "Python ogrenmek icin 40 yas biraz erken degil mi sence de?\n"
          ]
        }
      ]
    },
    {
      "cell_type": "markdown",
      "source": [
        "# **Concatenation**\n",
        "\n",
        "Print komutunda parantezin icinde;\n",
        "\n",
        "hem tırnak içinde yazilan metin,\n",
        "hem de kullanıcıdan gelen inputa referans veren variable'in ismi var.\n",
        "Bunlar, iki stringi tek bir stringde concatenate eden/birleştiren + operatörü ile birleştirilmiştir."
      ],
      "metadata": {
        "id": "KSW-1EqxFKzP"
      }
    },
    {
      "cell_type": "markdown",
      "source": [
        "**Exercise**\n",
        "\n",
        "User'a ismini sorun, ismini tek satirda 3 kere print edin, aralarinda bosluk olmayacak sekilde"
      ],
      "metadata": {
        "id": "70q4yzLEFX5Q"
      }
    },
    {
      "cell_type": "code",
      "source": [
        "name = input(\"Isminiz nedir: \")\n",
        "print(name+name+name)"
      ],
      "metadata": {
        "colab": {
          "base_uri": "https://localhost:8080/"
        },
        "id": "2DvAZhkiFdiG",
        "outputId": "24f10b0e-9019-4b0e-eb18-552bc4345cca"
      },
      "execution_count": null,
      "outputs": [
        {
          "output_type": "stream",
          "name": "stdout",
          "text": [
            "Isminiz nedir: Hüseyin\n",
            "HüseyinHüseyinHüseyin\n"
          ]
        }
      ]
    },
    {
      "cell_type": "code",
      "source": [
        "#hüseyin\n",
        "name = input(\"isminiz nedir: \")\n",
        "print(name+\" \"+name+\" \"+name+\" \"+name)"
      ],
      "metadata": {
        "colab": {
          "base_uri": "https://localhost:8080/"
        },
        "id": "Wwv2JmxqFoO-",
        "outputId": "570b89ea-c7e6-4be1-a94b-30ab060a737a"
      },
      "execution_count": null,
      "outputs": [
        {
          "output_type": "stream",
          "name": "stdout",
          "text": [
            "isminiz nedir: hüseyin\n",
            "hüseyin hüseyin hüseyin hüseyin\n"
          ]
        }
      ]
    },
    {
      "cell_type": "code",
      "source": [
        "#hakan\n",
        "\n",
        "name= input(\"Isminiz nedir?\")\n",
        "print(name+\" \"+name+\"\"+name+ \"\"+name)"
      ],
      "metadata": {
        "colab": {
          "base_uri": "https://localhost:8080/"
        },
        "id": "8dzLrBsiFwgu",
        "outputId": "c379dc09-5aa0-4921-a4bf-b6947ebc4e84"
      },
      "execution_count": null,
      "outputs": [
        {
          "output_type": "stream",
          "name": "stdout",
          "text": [
            "Isminiz nedir?hakan\n",
            "hakan hakanhakanhakan\n"
          ]
        }
      ]
    },
    {
      "cell_type": "markdown",
      "source": [
        "# **Birden Fazla Input Alma**\n",
        "\n",
        "Bir kod birden fazla input isteyebilir. Aşağıda her bir input komutunun/command'inin alınan değeri farklı bir variable'de/değişkende nasıl store etttigine/sakladığına dikkat edin."
      ],
      "metadata": {
        "id": "BukyqSfnF4Fm"
      }
    },
    {
      "cell_type": "code",
      "source": [
        "name = input(\"Isminiz: \")\n",
        "surname = input(\"Soyisminiz: \")\n",
        "dob = input(\"Dogum tarihiniz: \")\n",
        "print(name, surname, dob)"
      ],
      "metadata": {
        "colab": {
          "base_uri": "https://localhost:8080/"
        },
        "id": "VhHF_mC_GEBu",
        "outputId": "2f3f418d-374b-4ef7-d78f-e79b30c54533"
      },
      "execution_count": null,
      "outputs": [
        {
          "output_type": "stream",
          "name": "stdout",
          "text": [
            "Isminiz: Hüseyin\n",
            "Soyisminiz: Karakullukcu\n",
            "Dogum tarihiniz: 10/08/1984\n",
            "Hüseyin Karakullukcu 10/08/1984\n"
          ]
        }
      ]
    },
    {
      "cell_type": "code",
      "source": [
        "print(\"Kontrol edelim!\")\n",
        "print(\"Adin\" , name)\n",
        "print(\"Soyadin\",surname)\n",
        "print(\"Dogum tarihin ise\",dob)"
      ],
      "metadata": {
        "colab": {
          "base_uri": "https://localhost:8080/"
        },
        "id": "TEYxGnV0GPIP",
        "outputId": "9c791463-f8f8-4752-e299-b4380e5d5c50"
      },
      "execution_count": null,
      "outputs": [
        {
          "output_type": "stream",
          "name": "stdout",
          "text": [
            "Kontrol edelim!\n",
            "Adin Hüseyin\n",
            "Soyadin Karakullukcu\n",
            "Dogum tarihin ise 10/08/1984\n"
          ]
        }
      ]
    },
    {
      "cell_type": "markdown",
      "source": [
        "Aynı değişken ismine klavyeden üst üste değer girmesini istersek"
      ],
      "metadata": {
        "id": "GjYjdl26GX7d"
      }
    },
    {
      "cell_type": "code",
      "source": [
        "adres= input(\"Ev adresinizi giriniz: \")\n",
        "adres= input(\"Is adresinizi giriniz: \")"
      ],
      "metadata": {
        "colab": {
          "base_uri": "https://localhost:8080/"
        },
        "id": "IpoZYKaqGWJ2",
        "outputId": "12c0a720-e891-4ec7-935e-f915c7b93810"
      },
      "execution_count": null,
      "outputs": [
        {
          "name": "stdout",
          "output_type": "stream",
          "text": [
            "Ev adresinizi giriniz: Ankara\n",
            "Is adresinizi giriniz: İstanbul\n"
          ]
        }
      ]
    },
    {
      "cell_type": "code",
      "source": [
        "print(adres)"
      ],
      "metadata": {
        "colab": {
          "base_uri": "https://localhost:8080/"
        },
        "id": "KzcQpSD1Gkrn",
        "outputId": "424af224-0bc3-49b5-c5b8-bec249853682"
      },
      "execution_count": null,
      "outputs": [
        {
          "output_type": "stream",
          "name": "stdout",
          "text": [
            "İstanbul\n"
          ]
        }
      ]
    },
    {
      "cell_type": "markdown",
      "source": [
        "Aynı değişken birden fazla inputu saklamak için kullanılırsa, her yeni değer bir öncekinin yerini alacaktır. Örneğin: aynı isimli variable, art arda iki inputu depolamak için kullanılırsa, ikinci input ile değiştirildikten sonra ilk input değerine erişilemez!"
      ],
      "metadata": {
        "id": "NWlhh-ukGqkW"
      }
    },
    {
      "cell_type": "markdown",
      "source": [
        "**Exercise**\n",
        "\n",
        "user'dan ismini, soyismini, email adresini, hobilerini soralim, ve print edelim!\n",
        "\n",
        "\n",
        "    Ismin ne? Sam\n",
        "    Soyismin ne? Stone\n",
        "    Email adresin ne? samsakasj@\n",
        "    Hobilerin ne? futbol, siir\n",
        "\n",
        "    Sam Stone\n",
        "    email: samsakasj@\n",
        "    hobilerim: futbol, siir"
      ],
      "metadata": {
        "id": "ZzTi0MHIGtQG"
      }
    },
    {
      "cell_type": "code",
      "source": [
        "isim = input(\"Isminiz nedir: \")\n",
        "soyisim = input(\"Soyisminiz nedir: \")\n",
        "email = input(\"Email adresinizi giriniz: \")\n",
        "hobi = input(\"Hobileriniz nelerdir: \")\n",
        "print()\n",
        "print(isim + \" \" + soyisim)\n",
        "print(\"Email: \" + email)\n",
        "print(\"Hobilerim: \" + hobi)"
      ],
      "metadata": {
        "colab": {
          "base_uri": "https://localhost:8080/"
        },
        "id": "ZivsRe61HLOG",
        "outputId": "90c79ee0-2768-4bf8-e46c-95e72ef551de"
      },
      "execution_count": null,
      "outputs": [
        {
          "output_type": "stream",
          "name": "stdout",
          "text": [
            "Isminiz nedir: Ahmet\n",
            "Soyisminiz nedir: karaca\n",
            "Email adresinizi giriniz: ahmet@ahmet.com\n",
            "Hobileriniz nelerdir: yazılım\n",
            "\n",
            "Ahmet karaca\n",
            "Email: ahmet@ahmet.com\n",
            "Hobilerim: yazılım\n"
          ]
        }
      ]
    },
    {
      "cell_type": "markdown",
      "source": [
        "**Exercise;**\n",
        "\n",
        "Kullanicidan 3 kelime isteyin ve bunları asagida gorundugu gibi yazdirin.\n",
        "\n",
        "\n",
        "    Birinci kelime: En\n",
        "    İkinci kelime: Büyük\n",
        "    Üçüncü kelime: Fener\n",
        "\n",
        "    !!En_Büyük_Python!!"
      ],
      "metadata": {
        "id": "W7Kr_U3VHZAO"
      }
    },
    {
      "cell_type": "code",
      "source": [
        "a = input(\"Birinci kelime: \")\n",
        "b = input(\"Ikinci kelime: \")\n",
        "c = input(\"Ucuncu kelime: \")\n",
        "print()\n",
        "print(\"!!\" + a + \"_\" + b + \"_\" + c + \"!!\")"
      ],
      "metadata": {
        "colab": {
          "base_uri": "https://localhost:8080/"
        },
        "id": "4p8HtDwbHsWe",
        "outputId": "fc6303b8-584d-473f-a4a1-7cc1f89a1fa8"
      },
      "execution_count": null,
      "outputs": [
        {
          "output_type": "stream",
          "name": "stdout",
          "text": [
            "Birinci kelime: En\n",
            "Ikinci kelime: Büyük\n",
            "Ucuncu kelime: Python\n",
            "\n",
            "!!En_Büyük_Python!!\n"
          ]
        }
      ]
    },
    {
      "cell_type": "markdown",
      "source": [
        "**Exercise**\n",
        "\n",
        "Asagidaki hikayeyi isim, renk, cins, alt cins ve yer ismine gore dinamik hale getiriniz.\n",
        "\n",
        "Merhaba, ben Lamiya. Sizlere başımdan geçen bir olayı anlatmadan önce, kendimi tanıtmak istiyorum. Ben \"mavi kelebek\" adı verilen, kelebek familyasına ait bir alt cinsin mensubuyum. Cinsimin adından da anlaşıldığı üzere, üst tarafım mavi renklidir. Tahmin etmesi zor olmasa gerek, bu mavi renkten dolayı bizler mavi kelebek olarak adlandırılırız. Ana vatanımız Avrupa’dır. Ama baska bolgelerde yaşayan tanıdıklarım vardır."
      ],
      "metadata": {
        "id": "MVT_vv0ZH0t-"
      }
    },
    {
      "cell_type": "code",
      "source": [
        "isim=input(\"Isminiz: \")\n",
        "renk=input(\"Renginiz: \")\n",
        "cins=input(\"Cinsiniz: \")\n",
        "altcins=input(\"Alt cinsiniz: \")\n",
        "yer=input(\"Memleketiniz: \")\n",
        "print()\n",
        "\n",
        "print(\"Merhaba, ben \"+isim+\". Sizlere başımdan geçen bir olayı anlatmadan önce, kendimi tanıtmak istiyorum. Ben \\\"\"+altcins+\"\\\" adı verilen, \"+cins+\" familyasına ait bir alt cinsin mensubuyum. Cinsimin adından da anlaşıldığı üzere, üst tarafım \"+renk+\" renklidir. Tahmin etmesi zor olmasa gerek, bu \"+renk+\" renkten dolayı bizler \"+altcins+\" olarak adlandırılırız. Ana vatanımız \"+yer+\"'dır. Ama baska bolgelerde yaşayan tanıdıklarım vardır.\")\n",
        "\n",
        "print()"
      ],
      "metadata": {
        "colab": {
          "base_uri": "https://localhost:8080/"
        },
        "id": "H12IqmBAIFu_",
        "outputId": "def72a11-6062-4f8c-a3b1-651e3012fd0f"
      },
      "execution_count": null,
      "outputs": [
        {
          "output_type": "stream",
          "name": "stdout",
          "text": [
            "Isminiz: Kerime\n",
            "Renginiz: Kırmızı\n",
            "Cinsiniz: Kelebek\n",
            "Alt cinsiniz: kırmızı kelebek\n",
            "Memleketiniz: ankara\n",
            "\n",
            "Merhaba, ben Kerime. Sizlere başımdan geçen bir olayı anlatmadan önce, kendimi tanıtmak istiyorum. Ben \"kırmızı kelebek\" adı verilen, Kelebek familyasına ait bir alt cinsin mensubuyum. Cinsimin adından da anlaşıldığı üzere, üst tarafım Kırmızı renklidir. Tahmin etmesi zor olmasa gerek, bu Kırmızı renkten dolayı bizler kırmızı kelebek olarak adlandırılırız. Ana vatanımız ankara'dır. Ama baska bolgelerde yaşayan tanıdıklarım vardır.\n",
            "\n"
          ]
        }
      ]
    },
    {
      "cell_type": "code",
      "source": [
        "print(\"\"\"Merhaba, ben Birsen. Sizlere başımdan geçen\n",
        " bir olayı anlatmadan önce, kendimi tanıtmak istiyorum.\n",
        " Ben \"kugu\" adı verilen, ordek familyasına ait\n",
        " bir alt cinsin mensubuyum. Cinsimin adından da anlaşıldığı üzere,\n",
        "  üst tarafım bej renklidir. Tahmin etmesi zor olmasa gerek,\n",
        "  bu bej renkten dolayı bizler kugu olarak adlandırılırız.\n",
        "  Ana vatanımız Antalya'dır. Ama baska bolgelerde yaşayan tanıdıklarım vardır.\"\"\")"
      ],
      "metadata": {
        "colab": {
          "base_uri": "https://localhost:8080/"
        },
        "id": "Owp9eTqNIkXA",
        "outputId": "00db0266-d0e4-4e4c-f307-6341b29ae21a"
      },
      "execution_count": null,
      "outputs": [
        {
          "output_type": "stream",
          "name": "stdout",
          "text": [
            "Merhaba, ben Birsen. Sizlere başımdan geçen\n",
            " bir olayı anlatmadan önce, kendimi tanıtmak istiyorum.\n",
            " Ben \"kugu\" adı verilen, ordek familyasına ait\n",
            " bir alt cinsin mensubuyum. Cinsimin adından da anlaşıldığı üzere,\n",
            "  üst tarafım bej renklidir. Tahmin etmesi zor olmasa gerek,\n",
            "  bu bej renkten dolayı bizler kugu olarak adlandırılırız.\n",
            "  Ana vatanımız Antalya'dır. Ama baska bolgelerde yaşayan tanıdıklarım vardır.\n"
          ]
        }
      ]
    },
    {
      "cell_type": "markdown",
      "source": [
        "# Değişkenler (Variables)\n",
        "\n",
        "Yazilimda, degiskenlere cesitli amaclarla ihtiyac duyariz. Mesela, kodu calistirirken ilerde bana lazim olacak verileri degiskenlere depolayabiliriz.\n",
        "\n",
        "Python programlamada variables\\değişkenler şu şekilde oluşturulur:\n",
        "\n",
        "variable_name = value\n",
        "\n",
        "degiskenin_ismi = degiskenin degeri\n",
        "\n",
        "Burada value değişkende saklanan değer anlamına gelir."
      ],
      "metadata": {
        "id": "cqsF_JKWkbti"
      }
    },
    {
      "cell_type": "code",
      "source": [
        "name = input(\"Isminizi yaziniz: \")"
      ],
      "metadata": {
        "colab": {
          "base_uri": "https://localhost:8080/"
        },
        "id": "sdePtIjFkn9g",
        "outputId": "8edab3a3-e666-4dd3-f139-6d6b92f3a211"
      },
      "execution_count": null,
      "outputs": [
        {
          "name": "stdout",
          "output_type": "stream",
          "text": [
            "Isminizi yaziniz: Hüseyin\n"
          ]
        }
      ]
    },
    {
      "cell_type": "code",
      "source": [
        "print(name)"
      ],
      "metadata": {
        "colab": {
          "base_uri": "https://localhost:8080/"
        },
        "id": "MXSFFaj9ksZJ",
        "outputId": "8c64a779-a9dd-4d2a-f529-c7bdbbcdfd55"
      },
      "execution_count": null,
      "outputs": [
        {
          "output_type": "stream",
          "name": "stdout",
          "text": [
            "Hüseyin\n"
          ]
        }
      ]
    },
    {
      "cell_type": "code",
      "source": [
        "surname = input(\"Soyisminizi yaziniz: \")"
      ],
      "metadata": {
        "colab": {
          "base_uri": "https://localhost:8080/"
        },
        "id": "O0O76_5PkvPQ",
        "outputId": "5616dab8-e22b-489d-f1c6-b56a164d87d4"
      },
      "execution_count": null,
      "outputs": [
        {
          "name": "stdout",
          "output_type": "stream",
          "text": [
            "Soyisminizi yaziniz: Karakullukcu\n"
          ]
        }
      ]
    },
    {
      "cell_type": "markdown",
      "source": [
        "Degiskenler, baska degiskenleri kullanilarak da tanimlanabilir."
      ],
      "metadata": {
        "id": "7x2QL74Hk0Jw"
      }
    },
    {
      "cell_type": "code",
      "source": [
        "fullname = name + \" \" + surname\n",
        "print(fullname)"
      ],
      "metadata": {
        "colab": {
          "base_uri": "https://localhost:8080/"
        },
        "id": "V7N4W1uKk0p_",
        "outputId": "cf307445-db1f-47a8-edea-2c611f27d57e"
      },
      "execution_count": null,
      "outputs": [
        {
          "output_type": "stream",
          "name": "stdout",
          "text": [
            "Hüseyin Karakullukcu\n"
          ]
        }
      ]
    },
    {
      "cell_type": "markdown",
      "source": [
        "Degiskenin degeri illaki input olarak user'dan alinmak zorunda degil. Direk kendimizde assign edebiliriz. Buna \"hard-coding\" denir. Program her calistirildiginda value ayni kalir."
      ],
      "metadata": {
        "id": "_YXxseZXk_If"
      }
    },
    {
      "cell_type": "code",
      "source": [
        "full_name = \"Hüseyin Karakullukcu\"\n",
        "print(full_name)"
      ],
      "metadata": {
        "colab": {
          "base_uri": "https://localhost:8080/"
        },
        "id": "42xR2QFPlAjv",
        "outputId": "9ea31ff7-50ff-4814-a5cc-a44be9b94cb8"
      },
      "execution_count": null,
      "outputs": [
        {
          "output_type": "stream",
          "name": "stdout",
          "text": [
            "Hüseyin Karakullukcu\n"
          ]
        }
      ]
    },
    {
      "cell_type": "markdown",
      "source": [
        "**Changing the value of a variable**\n",
        "\n",
        "Degiskenin, isminden de anlasilacagi uzere, depo edilen deger degisebilir"
      ],
      "metadata": {
        "id": "uH6Gz79wlJoY"
      }
    },
    {
      "cell_type": "code",
      "source": [
        "kelime = input(\"Bir kelime giriniz: \")\n",
        "print(kelime)\n",
        "\n",
        "kelime = input(\"Baska bir kelime giriniz: \")\n",
        "print(kelime)\n",
        "\n",
        "kelime = \"ucuncu\""
      ],
      "metadata": {
        "colab": {
          "base_uri": "https://localhost:8080/"
        },
        "id": "g-ANP8E-lM83",
        "outputId": "8e37b19d-8a7d-4253-826d-2960a867e743"
      },
      "execution_count": null,
      "outputs": [
        {
          "output_type": "stream",
          "name": "stdout",
          "text": [
            "Bir kelime giriniz: kelime\n",
            "kelime\n",
            "Baska bir kelime giriniz: diğer kelime\n",
            "diğer kelime\n"
          ]
        }
      ]
    },
    {
      "cell_type": "code",
      "source": [
        "print(kelime)"
      ],
      "metadata": {
        "colab": {
          "base_uri": "https://localhost:8080/"
        },
        "id": "N7jORFBYlSfA",
        "outputId": "ffac7203-9f3a-4543-b46d-d153df9affdb"
      },
      "execution_count": null,
      "outputs": [
        {
          "output_type": "stream",
          "name": "stdout",
          "text": [
            "ucuncu\n"
          ]
        }
      ]
    },
    {
      "cell_type": "markdown",
      "source": [
        "Variable'a assign edilen value, her bir yeni value assign edildiginde degisir. Eski value uzerinde ekleme yaparak da degistirilebilir."
      ],
      "metadata": {
        "id": "9guxztEnlX14"
      }
    },
    {
      "cell_type": "code",
      "source": [
        "takim = \"Galatasaray\"\n",
        "print(takim)"
      ],
      "metadata": {
        "colab": {
          "base_uri": "https://localhost:8080/"
        },
        "id": "USy0n8PjlZso",
        "outputId": "358c4a82-d4f3-4bd4-d7ca-ec735fe5f678"
      },
      "execution_count": null,
      "outputs": [
        {
          "output_type": "stream",
          "name": "stdout",
          "text": [
            "Galatasaray\n"
          ]
        }
      ]
    },
    {
      "cell_type": "code",
      "source": [
        "takim = takim +\" Şampiyon\"\n",
        "print(takim)"
      ],
      "metadata": {
        "colab": {
          "base_uri": "https://localhost:8080/"
        },
        "id": "c2ScAR2MlhHA",
        "outputId": "b5f01255-31a8-41e4-8d82-98379a058985"
      },
      "execution_count": null,
      "outputs": [
        {
          "output_type": "stream",
          "name": "stdout",
          "text": [
            "Galatasaray Şampiyon\n"
          ]
        }
      ]
    },
    {
      "cell_type": "markdown",
      "source": [
        "Değişken İsimlendirme (Choosing a good name for a variable)\n",
        "\n",
        "Degiskenlere ingilizce isim vermek ve ne icin kullanildiklariyla alakali bir isim vermek genellikle faydalidir. Ornegin, degisken bir ismi iceriyorsa, name ismi, a isminden daha basarili bir secimdir.\n",
        "\n",
        "Python'da degisken isimlerinin uzunlugu icin belirlenmis bir sinir yoktur. Istedigimiz uzunlukta bir isim secebiliriz.\n",
        "\n",
        "Degiskenin ismi harf ile baslamak zorundadir. Ilk karakterden sonra harf, rakam ya da underscore (altcizgi) _ gelebilir.\n",
        "\n",
        "Degisken isimleri buyuk/kucuk harfe duyarlidir. name, Name, NAME farkli birer degiskendir.\n",
        "\n",
        "Degiskenlere yalnizca kucuk harf ve ingilizce isim vermek yaygindir.\n",
        "\n",
        "Degisken ismi birden fazla kelime iceriyorsa, iki kelime arasinda _ eklemek yaygindir. full_name, fullname, fullName"
      ],
      "metadata": {
        "id": "Un5TU6RHlurY"
      }
    },
    {
      "cell_type": "code",
      "source": [
        "dhf=\"Telli\"\n",
        "print(dhf)"
      ],
      "metadata": {
        "colab": {
          "base_uri": "https://localhost:8080/"
        },
        "id": "azIaHRS_l7Fw",
        "outputId": "15b06e86-de4c-448a-8a9a-5c5438d5cd6d"
      },
      "execution_count": null,
      "outputs": [
        {
          "output_type": "stream",
          "name": "stdout",
          "text": [
            "Telli\n"
          ]
        }
      ]
    },
    {
      "cell_type": "code",
      "source": [
        "isim1 = \"a\"\n",
        "isim2= \"b\"\n",
        "1isim"
      ],
      "metadata": {
        "id": "SnF6VURymDsg"
      },
      "execution_count": null,
      "outputs": []
    },
    {
      "cell_type": "code",
      "source": [
        "name = \"Hakan\"\n",
        "Name = \"Hüseyin\"\n",
        "NAME = \"Ahmet\"\n",
        "print(NAME)"
      ],
      "metadata": {
        "colab": {
          "base_uri": "https://localhost:8080/"
        },
        "id": "BZQ4JGPLmHUY",
        "outputId": "17d97ff8-144d-4d06-f356-677d18dd3ee8"
      },
      "execution_count": null,
      "outputs": [
        {
          "output_type": "stream",
          "name": "stdout",
          "text": [
            "Ahmet\n"
          ]
        }
      ]
    },
    {
      "cell_type": "markdown",
      "source": [
        "**Basic Data Types (Temel Veri Turleri)**\n",
        "\n",
        "String; yazi turu\n",
        "\n",
        "Integer; sayi turu\n",
        "\n",
        "Float; sayi turu\n",
        "\n",
        "Boolean; True/False"
      ],
      "metadata": {
        "id": "aVMwb5mvm0JY"
      }
    },
    {
      "cell_type": "markdown",
      "source": [
        "# **Integers**\n",
        "\n",
        "Şimdiye kadar yalnızca değişkenlerde string/dizgileri sakladık, ancak daha sonra depolamak ve erişmek isteyeceğimiz başka bilgi türleri de var. Önce integers/tamsayılara bir göz atalım. Tam sayılar, -15, 0 ve 1 gibi ondalık veya kesirli kısmı olmayan sayılardır."
      ],
      "metadata": {
        "id": "S0wGGfrim3qg"
      }
    },
    {
      "cell_type": "code",
      "source": [
        "1\n",
        "1.0"
      ],
      "metadata": {
        "id": "JMwsZ_WVnCto"
      },
      "execution_count": null,
      "outputs": []
    },
    {
      "cell_type": "code",
      "source": [
        "age = 24\n",
        "print(age)"
      ],
      "metadata": {
        "id": "Y-eCWatBnEh5"
      },
      "execution_count": null,
      "outputs": []
    },
    {
      "cell_type": "code",
      "source": [
        "student1 = 27\n",
        "student2 = \"27\"\n",
        "print(student1)\n",
        "print(student2)"
      ],
      "metadata": {
        "colab": {
          "base_uri": "https://localhost:8080/"
        },
        "id": "vFiK8_sSnJA5",
        "outputId": "df9140c9-3d11-4700-ea0c-af0e2b2624bf"
      },
      "execution_count": null,
      "outputs": [
        {
          "output_type": "stream",
          "name": "stdout",
          "text": [
            "27\n",
            "27\n"
          ]
        }
      ]
    },
    {
      "cell_type": "markdown",
      "source": [
        "Burda tirnak isaretleri olmadigina dikkat edelim.\n",
        "\n",
        "Değişken türleri önemlidir çünkü farklı işlemler farklı değişken türlerini farklı şekillerde etkiler.\n",
        "\n",
        "Bir örneğe bakalım:"
      ],
      "metadata": {
        "id": "XVZ5XwMVvHtw"
      }
    },
    {
      "cell_type": "code",
      "source": [
        "print(student1 + student1)\n",
        "print(student2 + student2)"
      ],
      "metadata": {
        "colab": {
          "base_uri": "https://localhost:8080/"
        },
        "id": "ipRUSwVyvIkI",
        "outputId": "86a8c751-808a-40d7-d18c-2e61d4e64ba5"
      },
      "execution_count": null,
      "outputs": [
        {
          "output_type": "stream",
          "name": "stdout",
          "text": [
            "54\n",
            "2727\n"
          ]
        }
      ]
    },
    {
      "cell_type": "code",
      "source": [
        "print(\"Hüseyin\"*13)"
      ],
      "metadata": {
        "colab": {
          "base_uri": "https://localhost:8080/"
        },
        "id": "x41ND7mkvUoI",
        "outputId": "55d02bb8-bdcd-46c8-88cf-bd56692a55d9"
      },
      "execution_count": null,
      "outputs": [
        {
          "output_type": "stream",
          "name": "stdout",
          "text": [
            "HüseyinHüseyinHüseyinHüseyinHüseyinHüseyinHüseyinHüseyinHüseyinHüseyinHüseyinHüseyinHüseyin\n"
          ]
        }
      ]
    },
    {
      "cell_type": "markdown",
      "source": [
        "- str ile str toplanabilir.\n",
        "- str ile int carpilabilir."
      ],
      "metadata": {
        "id": "WsiojNw2vchp"
      }
    },
    {
      "cell_type": "markdown",
      "source": [
        "Ancak;\n",
        "\n",
        "- str ile int toplanmaz.\n",
        "- str ile str carpilmaz.\n",
        "- stringlerde cikarma ve bolme islemi yoktur."
      ],
      "metadata": {
        "id": "ogQlU_i_visR"
      }
    },
    {
      "cell_type": "code",
      "source": [
        "num = \"100\"\n",
        "print(num/2)"
      ],
      "metadata": {
        "id": "VRoUyg-9vm0R"
      },
      "execution_count": null,
      "outputs": []
    },
    {
      "cell_type": "markdown",
      "source": [
        "# **Combining values when printing**"
      ],
      "metadata": {
        "id": "i4w3h_41vvpp"
      }
    },
    {
      "cell_type": "code",
      "source": [
        "sonuc = 10 * 25\n",
        "print(sonuc)"
      ],
      "metadata": {
        "colab": {
          "base_uri": "https://localhost:8080/"
        },
        "id": "-7N5PkBwwB8S",
        "outputId": "b374a3d4-f639-48e1-cc92-3c192a6323d1"
      },
      "execution_count": null,
      "outputs": [
        {
          "output_type": "stream",
          "name": "stdout",
          "text": [
            "250\n"
          ]
        }
      ]
    },
    {
      "cell_type": "code",
      "source": [
        "print(\"Bu islemin sonucu: \" + sonuc)"
      ],
      "metadata": {
        "colab": {
          "base_uri": "https://localhost:8080/",
          "height": 146
        },
        "id": "gD-IiItDwENB",
        "outputId": "b398b7f3-430a-4ded-9a4c-20066fe1f9b0"
      },
      "execution_count": null,
      "outputs": [
        {
          "output_type": "error",
          "ename": "TypeError",
          "evalue": "can only concatenate str (not \"int\") to str",
          "traceback": [
            "\u001b[0;31m---------------------------------------------------------------------------\u001b[0m",
            "\u001b[0;31mTypeError\u001b[0m                                 Traceback (most recent call last)",
            "\u001b[0;32m<ipython-input-35-b6e849e59130>\u001b[0m in \u001b[0;36m<cell line: 1>\u001b[0;34m()\u001b[0m\n\u001b[0;32m----> 1\u001b[0;31m \u001b[0mprint\u001b[0m\u001b[0;34m(\u001b[0m\u001b[0;34m\"Bu islemin sonucu: \"\u001b[0m \u001b[0;34m+\u001b[0m \u001b[0msonuc\u001b[0m\u001b[0;34m)\u001b[0m\u001b[0;34m\u001b[0m\u001b[0;34m\u001b[0m\u001b[0m\n\u001b[0m",
            "\u001b[0;31mTypeError\u001b[0m: can only concatenate str (not \"int\") to str"
          ]
        }
      ]
    },
    {
      "cell_type": "markdown",
      "source": [
        "\"Bu islemin sonucu: \" => str turundedir\n",
        "\n",
        "sonuc degiskenin ise int turundedir.\n",
        "\n",
        "Farkli turdeki veriler, str() fonksiyonu ile string turune donusturulebilir."
      ],
      "metadata": {
        "id": "AYSarkxTwJlJ"
      }
    },
    {
      "cell_type": "markdown",
      "source": [
        "**casting**\n",
        "\n",
        "tur degistirme islemi\n",
        "\n",
        "str(), parantez isaretleri arasina yazilan verinin turunu stringe donusturur.\n",
        "\n",
        "int()\n",
        "\n",
        "float()"
      ],
      "metadata": {
        "id": "cMJVoDLEwLr5"
      }
    },
    {
      "cell_type": "code",
      "source": [
        "print(\"Bu islemin sonucu: \" + str(sonuc))"
      ],
      "metadata": {
        "colab": {
          "base_uri": "https://localhost:8080/"
        },
        "id": "e7pD4FRTwPaZ",
        "outputId": "59529645-3dc4-41d2-f326-2243080adad5"
      },
      "execution_count": null,
      "outputs": [
        {
          "output_type": "stream",
          "name": "stdout",
          "text": [
            "Bu islemin sonucu: 250\n"
          ]
        }
      ]
    },
    {
      "cell_type": "code",
      "source": [
        "type((sonuc))"
      ],
      "metadata": {
        "colab": {
          "base_uri": "https://localhost:8080/"
        },
        "id": "f2w-1jK5wSxZ",
        "outputId": "fbba19e4-6584-415b-e870-693a5ab32352"
      },
      "execution_count": null,
      "outputs": [
        {
          "output_type": "execute_result",
          "data": {
            "text/plain": [
              "int"
            ]
          },
          "metadata": {},
          "execution_count": 37
        }
      ]
    },
    {
      "cell_type": "code",
      "source": [
        "sonuc = str(sonuc)"
      ],
      "metadata": {
        "id": "7943sM_9wW0p"
      },
      "execution_count": null,
      "outputs": []
    },
    {
      "cell_type": "markdown",
      "source": [
        "print fonksiyonunun bazi ozellikleri vardir.\n",
        "\n",
        "Basit bir yol; virgul operatoru kullanmaktadir.\n",
        "\n",
        "Virgul, turlerinden bagimsiz olarak tum verileri yazdirir."
      ],
      "metadata": {
        "id": "wGWTA0KGwctR"
      }
    },
    {
      "cell_type": "markdown",
      "source": [
        "# **Yeni BölümPrint'de alt satira gecmeme**\n",
        "\n",
        "print komutu normalde bir alt satira inecek sekilde yazar. ancak ek argument end=\" \" yazilirsa ayni satirdan devam eder"
      ],
      "metadata": {
        "id": "vhHwv69DwlAJ"
      }
    },
    {
      "cell_type": "code",
      "source": [
        "print(3, end=\"\")\n",
        "print(\" + \", end=\"\")\n",
        "print(7, end=\"\")\n",
        "print(\" - \", end=\"\")\n",
        "print(5, end=\"\")\n",
        "print(\" * \", end=\"\")\n",
        "print(2, end=\"\")\n",
        "print(\" = \", end=\"\")\n",
        "print(3+7-5*2)"
      ],
      "metadata": {
        "colab": {
          "base_uri": "https://localhost:8080/"
        },
        "id": "dcvaF0r_wt9p",
        "outputId": "6727b3fe-597f-4fa9-f0f4-3ba2d8c4909f"
      },
      "execution_count": null,
      "outputs": [
        {
          "output_type": "stream",
          "name": "stdout",
          "text": [
            "3 + 7 - 5 * 2 = 0\n"
          ]
        }
      ]
    },
    {
      "cell_type": "markdown",
      "source": [
        "# **Printing with f-strings**\n",
        "\n",
        "Yazdırdığımız şeyler üzerinde daha fazla flexibility ve kontrole sahip olmak için f-string kullanabiliriz. F-string Python'da printleri biçimlendirmenin başka bir yoludur.\n",
        "\n",
        "Syntax başlangıçta biraz kafa karıştırıcı görünebilir, ancak sonunda f-string genellikle metni biçimlendirmenin en basit yoludur."
      ],
      "metadata": {
        "id": "ZRGgB_SkxJL6"
      }
    },
    {
      "cell_type": "code",
      "source": [
        "print(f\"Bu islemin sonucu: {sonuc}\")"
      ],
      "metadata": {
        "colab": {
          "base_uri": "https://localhost:8080/"
        },
        "id": "_TeRNXsUxe1C",
        "outputId": "9cbc43d9-726e-4652-8b96-681997d5953c"
      },
      "execution_count": null,
      "outputs": [
        {
          "output_type": "stream",
          "name": "stdout",
          "text": [
            "Bu islemin sonucu: 250\n"
          ]
        }
      ]
    },
    {
      "cell_type": "markdown",
      "source": [
        "Yazdırdığımız stringin en başında f karakteri var. Bu, Python'a devaminin bir f-string olduğunu söyler. Kıvrımlı parantez içine alınmış string içinde, sonuc isimli variable/değişken var.\n",
        "\n",
        "İçerdiği değer, yazdırılan stringin bir parçası olur.\n",
        "\n",
        "f-string birden fazla variable icerebilir."
      ],
      "metadata": {
        "id": "AmMbAljgxlSZ"
      }
    },
    {
      "cell_type": "code",
      "source": [
        "name = \"Haluk\"\n",
        "age = 38\n",
        "city= \"Lund\"\n",
        "\n",
        "print(f\"Merhaba {name}, sen suan {age} yasindasin ve {city} sehrinde yasiyorsun.\")"
      ],
      "metadata": {
        "colab": {
          "base_uri": "https://localhost:8080/"
        },
        "id": "LeqC7qM0yfmx",
        "outputId": "4afb8137-3b12-4372-f411-c9808b5bc487"
      },
      "execution_count": null,
      "outputs": [
        {
          "output_type": "stream",
          "name": "stdout",
          "text": [
            "Merhaba Haluk, sen suan 38 yasindasin ve Lund sehrinde yasiyorsun.\n"
          ]
        }
      ]
    },
    {
      "cell_type": "code",
      "source": [
        "print(\"Merhaba\", name + \", sen suan\", age, \"yasindasin ve\", city, \"yasiyorsun\")"
      ],
      "metadata": {
        "colab": {
          "base_uri": "https://localhost:8080/"
        },
        "id": "ymFTJJ5mymyC",
        "outputId": "799d695c-3577-4a99-8255-6541572a195d"
      },
      "execution_count": null,
      "outputs": [
        {
          "output_type": "stream",
          "name": "stdout",
          "text": [
            "Merhaba Haluk, sen suan 38 yasindasin ve Lund yasiyorsun\n"
          ]
        }
      ]
    },
    {
      "cell_type": "code",
      "source": [
        "print(\"Merhaba \"+ name + \", sen suan \"+ str(age)+ \" yasindasin ve \"+ city+ \" yasiyorsun\")"
      ],
      "metadata": {
        "colab": {
          "base_uri": "https://localhost:8080/"
        },
        "id": "BBYZ6wE_ytMJ",
        "outputId": "502c74c8-61f1-4d4a-9a5b-fb20d40b317e"
      },
      "execution_count": null,
      "outputs": [
        {
          "output_type": "stream",
          "name": "stdout",
          "text": [
            "Merhaba Haluk, sen suan 38 yasindasin ve Lund yasiyorsun\n"
          ]
        }
      ]
    },
    {
      "cell_type": "code",
      "source": [
        "\"Bu sayilarin toplami 250 yapar.\"\n",
        "print()\n",
        "input()"
      ],
      "metadata": {
        "colab": {
          "base_uri": "https://localhost:8080/",
          "height": 72
        },
        "id": "lU8F3FBeyzqZ",
        "outputId": "6c81957a-b79c-48a2-dee6-6765188bb6de"
      },
      "execution_count": null,
      "outputs": [
        {
          "name": "stdout",
          "output_type": "stream",
          "text": [
            "\n",
            "30\n"
          ]
        },
        {
          "output_type": "execute_result",
          "data": {
            "text/plain": [
              "'30'"
            ],
            "application/vnd.google.colaboratory.intrinsic+json": {
              "type": "string"
            }
          },
          "metadata": {},
          "execution_count": 44
        }
      ]
    },
    {
      "cell_type": "code",
      "source": [
        "num1 = 150\n",
        "num2= 400\n",
        "a = f\"Bu iki sayinin carpimi {num1*num2} yapar.\"\n",
        "print(a)"
      ],
      "metadata": {
        "colab": {
          "base_uri": "https://localhost:8080/"
        },
        "id": "EhQX1Xa8y9wp",
        "outputId": "0b4b63ee-8da5-4c0c-9b20-b14872746ef0"
      },
      "execution_count": null,
      "outputs": [
        {
          "output_type": "stream",
          "name": "stdout",
          "text": [
            "Bu iki sayinin carpimi 60000 yapar.\n"
          ]
        }
      ]
    },
    {
      "cell_type": "code",
      "source": [
        "isim = input(\"Isminizi giriniz: \")"
      ],
      "metadata": {
        "colab": {
          "base_uri": "https://localhost:8080/"
        },
        "id": "0GO4gXMSzFqq",
        "outputId": "3a450e14-dbfb-4715-a4cd-fdb943c919d5"
      },
      "execution_count": null,
      "outputs": [
        {
          "name": "stdout",
          "output_type": "stream",
          "text": [
            "Isminizi giriniz: Hüseyin\n"
          ]
        }
      ]
    },
    {
      "cell_type": "code",
      "source": [
        "sayi1 = 16\n",
        "sayi2 = 25\n",
        "islem = \"toplama\"\n",
        "\n",
        "print(f\"{sayi1} + {sayi2} = {sayi1+sayi2}\")"
      ],
      "metadata": {
        "colab": {
          "base_uri": "https://localhost:8080/"
        },
        "id": "cMNSYLGIzRMh",
        "outputId": "aac1b5f4-1db0-43b9-a4ce-67b79685f730"
      },
      "execution_count": null,
      "outputs": [
        {
          "output_type": "stream",
          "name": "stdout",
          "text": [
            "16 + 25 = 41\n"
          ]
        }
      ]
    },
    {
      "cell_type": "markdown",
      "source": [
        "# **Floating Point Numbers**"
      ],
      "metadata": {
        "id": "-SaPjg3nzZ7U"
      }
    },
    {
      "cell_type": "markdown",
      "source": [
        "**float**\n",
        "\n",
        "ondalikli sayilar, number with a decimal point"
      ],
      "metadata": {
        "id": "qzA33wwHzetp"
      }
    },
    {
      "cell_type": "code",
      "source": [
        "num1 = 5.2\n",
        "num2 = 7.6\n",
        "num3 = -3.14\n",
        "num4 = 2.0\n",
        "num5 = 2.000000009\n",
        "\n",
        "sum = num1 + num2 + num3 + num4 + num5\n",
        "print(f\"Bu sayilarin ortalamasi: {sum/5}\")"
      ],
      "metadata": {
        "colab": {
          "base_uri": "https://localhost:8080/"
        },
        "id": "PfbiNVdEzrDZ",
        "outputId": "a7cca947-0a51-47ce-a64d-2f99ea1c7786"
      },
      "execution_count": null,
      "outputs": [
        {
          "output_type": "stream",
          "name": "stdout",
          "text": [
            "Bu sayilarin ortalamasi: 2.7320000018000004\n"
          ]
        }
      ]
    },
    {
      "cell_type": "markdown",
      "source": [
        "**Exercise;**\n",
        "\n",
        "x ve y degisenlerini tanimlayalim.\n",
        "\n",
        "Bu iki degiskenin toplama cikarma carpma ve bolme islemlerini f-string ile print edelim.\n",
        "\n",
        "    x = 36\n",
        "    y = 2\n",
        "\n",
        "    36 + 2 = 38\n",
        "    36 - 2 = 34\n",
        "    36 * 2 = 72\n",
        "    36 / 2 = 18.0"
      ],
      "metadata": {
        "id": "4llfVTFMzyiS"
      }
    },
    {
      "cell_type": "code",
      "source": [
        "#hk\n",
        "x=36\n",
        "y=2\n",
        "\n",
        "print(f\"{x}+{y}={x+y}\")\n",
        "print(f\"{x}-{y}={x-y}\")\n",
        "print(f\"{x}*{y}={x*y}\")\n",
        "print(f\"{x}/{y}={x/y}\")"
      ],
      "metadata": {
        "colab": {
          "base_uri": "https://localhost:8080/"
        },
        "id": "tTGOIuss0Dba",
        "outputId": "a5745e59-d8eb-4c6a-b90b-061fb076ace2"
      },
      "execution_count": null,
      "outputs": [
        {
          "output_type": "stream",
          "name": "stdout",
          "text": [
            "36+2=38\n",
            "36-2=34\n",
            "36*2=72\n",
            "36/2=18.0\n"
          ]
        }
      ]
    },
    {
      "cell_type": "code",
      "source": [
        "#hk\n",
        "\n",
        "nummer1=47\n",
        "nummer2=6\n",
        "print(f\"{nummer1} sayisinin {nummer2} fazlasi: {nummer1+nummer2}\")\n",
        "print(f\"sayinin iki eksigi: {nummer1-nummer2}\")\n",
        "print(f\"sayinin iki kati: {nummer1*nummer2}\")\n",
        "print(f\"iki sayinin orani: {nummer1/nummer2}\")"
      ],
      "metadata": {
        "colab": {
          "base_uri": "https://localhost:8080/"
        },
        "id": "0274Y4Q60f96",
        "outputId": "3c248b5d-6bfe-4d36-b331-8804ffd8656f"
      },
      "execution_count": null,
      "outputs": [
        {
          "output_type": "stream",
          "name": "stdout",
          "text": [
            "47 sayisinin 6 fazlasi: 53\n",
            "sayinin iki eksigi: 41\n",
            "sayinin iki kati: 282\n",
            "iki sayinin orani: 7.833333333333333\n"
          ]
        }
      ]
    },
    {
      "cell_type": "code",
      "source": [
        "#hk\n",
        "\n",
        "x= 36\n",
        "y= 2\n",
        "print(f\"{x}+{y}={x+y}\")\n",
        "print(f\"{x}-{y}={x-y}\")\n",
        "print(f\"{x}*{y}={x*y}\")\n",
        "print(f\"{x}/{y}={x/y}\")"
      ],
      "metadata": {
        "colab": {
          "base_uri": "https://localhost:8080/"
        },
        "id": "w2XTw-5o00eK",
        "outputId": "249116cc-3a38-431a-f56e-40995352fd57"
      },
      "execution_count": null,
      "outputs": [
        {
          "output_type": "stream",
          "name": "stdout",
          "text": [
            "36+2=38\n",
            "36-2=34\n",
            "36*2=72\n",
            "36/2=18.0\n"
          ]
        }
      ]
    },
    {
      "cell_type": "code",
      "source": [
        "#hk\n",
        "numX = 45\n",
        "numY = 20\n",
        "print (f\"{numX} + {numY}= {numX +numY}\")\n",
        "print (f\"{numX} - {numY}= {numX - numY}\")\n",
        "print (f\"{numX} * {numY} = {numX * numY}\")\n",
        "print (f\"{numX} / {numY} = {numX / numY}\")"
      ],
      "metadata": {
        "colab": {
          "base_uri": "https://localhost:8080/"
        },
        "id": "90nQb4tL1A-i",
        "outputId": "84f341d6-7a01-4759-e672-dc318607ecbb"
      },
      "execution_count": null,
      "outputs": [
        {
          "output_type": "stream",
          "name": "stdout",
          "text": [
            "45 + 20= 65\n",
            "45 - 20= 25\n",
            "45 * 20 = 900\n",
            "45 / 20 = 2.25\n"
          ]
        }
      ]
    },
    {
      "cell_type": "markdown",
      "source": [
        "# **Arithmatic Operations**\n",
        "\n",
        "    toplama arti addition plus +\n",
        "\n",
        "    cikarma eksi deduction substract minus -\n",
        "\n",
        "    carpma multiply *\n",
        "\n",
        "    bolme division /\n",
        "      her zaman islemin sonucunu float turunde dondurur.\n",
        "      9/2 = 4.5\n",
        "      8/2 = 4.0\n",
        "\n",
        "    kalansiz bolme //\n",
        "      herzaman islemin sonucunu int turunde dondurur.\n",
        "      9//2 = 4\n",
        "      8//2 = 4\n",
        "\n",
        "    kalani bulma modulo %\n",
        "      herzaman islemin sonucunu int turunde dondurur.\n",
        "      9%2 = 1\n",
        "      8%2 = 0\n",
        "\n",
        "    exponential powers uslu sayilar **\n",
        "      2**3 = 8\n",
        "      4**2 = 16"
      ],
      "metadata": {
        "id": "T7Qquc431P8j"
      }
    },
    {
      "cell_type": "markdown",
      "source": [
        "İşlemlerin sırası matematikseldir:\n",
        "\n",
        "önce üsleri hesaplayın, sonra çarpma ve bölme ve son olarak toplama ve çıkarma. Sıra parantez içinde değiştirilebilir."
      ],
      "metadata": {
        "id": "U24-bBiX1aoi"
      }
    },
    {
      "cell_type": "code",
      "source": [
        "print(2 + 3 * 3)\n",
        "print((2 + 3 )* 3)"
      ],
      "metadata": {
        "colab": {
          "base_uri": "https://localhost:8080/"
        },
        "id": "ZnOAVDcS1gcK",
        "outputId": "d0f5e7ab-cec5-4cdc-c1ae-6aa9ee81eff0"
      },
      "execution_count": null,
      "outputs": [
        {
          "output_type": "stream",
          "name": "stdout",
          "text": [
            "11\n",
            "15\n"
          ]
        }
      ]
    },
    {
      "cell_type": "code",
      "source": [
        "print((3 + 4)**2)"
      ],
      "metadata": {
        "colab": {
          "base_uri": "https://localhost:8080/"
        },
        "id": "Za_fzGXh1mdJ",
        "outputId": "597b35f9-2398-417f-c671-6d127dbde3c0"
      },
      "execution_count": null,
      "outputs": [
        {
          "output_type": "stream",
          "name": "stdout",
          "text": [
            "49\n"
          ]
        }
      ]
    },
    {
      "cell_type": "code",
      "source": [
        "print(36**(1/2))"
      ],
      "metadata": {
        "colab": {
          "base_uri": "https://localhost:8080/"
        },
        "id": "FnCEY1Zr1sgC",
        "outputId": "5464aed6-0d61-462e-db16-b568db7838a6"
      },
      "execution_count": null,
      "outputs": [
        {
          "output_type": "stream",
          "name": "stdout",
          "text": [
            "6.0\n"
          ]
        }
      ]
    },
    {
      "cell_type": "markdown",
      "source": [
        "operator => hangi islem yapilacak?\n",
        "\n",
        "operand => islem yapilanlar 9, 2"
      ],
      "metadata": {
        "id": "CH3uOEiq1x8y"
      }
    },
    {
      "cell_type": "code",
      "source": [
        "num1 = 5\n",
        "num2 = 4\n",
        "\n",
        "print(num1 + num2)"
      ],
      "metadata": {
        "colab": {
          "base_uri": "https://localhost:8080/"
        },
        "id": "CV9xMGhp11w7",
        "outputId": "effe96f4-7a2b-440a-dfc8-51e11d54e2fa"
      },
      "execution_count": null,
      "outputs": [
        {
          "output_type": "stream",
          "name": "stdout",
          "text": [
            "9\n"
          ]
        }
      ]
    },
    {
      "cell_type": "markdown",
      "source": [
        "# **Input ile sayi alma**\n",
        "\n",
        "inputtan gelen veri herzaman string turundedir. Eger deger sayilardan olusacaksa, ve bu degerlerri artimetik islemlerde kullanacaksak int() yada float() fonksiyonu ile integer yada float turune donusturmeliyiz."
      ],
      "metadata": {
        "id": "hkDT469Y18Ki"
      }
    },
    {
      "cell_type": "code",
      "source": [
        "sene = input(\"Hangi yil dogdunuz: \")\n",
        "print(f\"Bu sene sonu itibariyle {2023-int(sene)} yasinda olacaksiniz.\")"
      ],
      "metadata": {
        "colab": {
          "base_uri": "https://localhost:8080/"
        },
        "id": "ELdoeX-C2KTi",
        "outputId": "32b49b6f-094e-4bf1-d0ab-a785a47d418f"
      },
      "execution_count": null,
      "outputs": [
        {
          "output_type": "stream",
          "name": "stdout",
          "text": [
            "Hangi yil dogdunuz: 1984\n",
            "Bu sene sonu itibariyle 39 yasinda olacaksiniz.\n"
          ]
        }
      ]
    },
    {
      "cell_type": "code",
      "source": [
        "sene = int(input(\"Hangi yil dogdunuz: \"))\n",
        "print(f\"Bu sene sonu itibariyle {2023-(sene)} yasinda olacaksiniz.\")"
      ],
      "metadata": {
        "colab": {
          "base_uri": "https://localhost:8080/"
        },
        "id": "l1S2abVp2W8Z",
        "outputId": "abac64aa-c96f-4f37-d808-38eb35cce41d"
      },
      "execution_count": null,
      "outputs": [
        {
          "output_type": "stream",
          "name": "stdout",
          "text": [
            "Hangi yil dogdunuz: 1984\n",
            "Bu sene sonu itibariyle 39 yasinda olacaksiniz.\n"
          ]
        }
      ]
    },
    {
      "cell_type": "markdown",
      "source": [
        "**Exercise:**\n",
        "\n",
        "user 'dan bir sayi alin ve kupunu yazdirin"
      ],
      "metadata": {
        "id": "yBQsJN4I2ee6"
      }
    },
    {
      "cell_type": "code",
      "source": [
        "#hk\n",
        "kup=int(input(\"Bir sayi giriniz\"))\n",
        "print(f\"Sayinin kupu: {kup*kup*kup}\")"
      ],
      "metadata": {
        "colab": {
          "base_uri": "https://localhost:8080/"
        },
        "id": "jPb9Of2h23ea",
        "outputId": "c70335f4-6d46-4d9c-e419-9f33a3e5989b"
      },
      "execution_count": null,
      "outputs": [
        {
          "output_type": "stream",
          "name": "stdout",
          "text": [
            "Bir sayi giriniz3\n",
            "Sayinin kupu: 27\n"
          ]
        }
      ]
    },
    {
      "cell_type": "markdown",
      "source": [
        "**Exercise**\n",
        "\n",
        "Userdan 3 sayi alin ve ortalamasini hesaplayin"
      ],
      "metadata": {
        "id": "EQaydXFW2-bi"
      }
    },
    {
      "cell_type": "code",
      "source": [
        "#hk\n",
        "\n",
        "s1= int(input(\"bir sayi girinz: \"))\n",
        "s2= int(input(\"bir sayi daha giriniz: \"))\n",
        "s3= int(input(\"son bir sayi daha giriniz: \"))\n",
        "sum= s1+s2+s3\n",
        "print(f\"{s1}+{s2}+{s3}= {sum/3}\")"
      ],
      "metadata": {
        "colab": {
          "base_uri": "https://localhost:8080/"
        },
        "id": "OIKo1kkN3DfT",
        "outputId": "f4dcdba5-3112-4662-a16c-9220438c742a"
      },
      "execution_count": null,
      "outputs": [
        {
          "output_type": "stream",
          "name": "stdout",
          "text": [
            "bir sayi girinz: 20\n",
            "bir sayi daha giriniz: 30\n",
            "son bir sayi daha giriniz: 40\n",
            "20+30+40= 30.0\n"
          ]
        }
      ]
    },
    {
      "cell_type": "markdown",
      "source": [
        "# **Homework**\n",
        "Asagidaki hikayeyi isim, renk, cins, alt cins ve yer ismine gore f-string ile 1 tane print komutu ile yazdiralim.\n",
        "\n",
        "Merhaba, ben Lamiya. Sizlere başımdan geçen bir olayı anlatmadan önce, kendimi tanıtmak istiyorum. Ben \"mavi kelebek\" adı verilen, kelebek familyasına ait bir alt cinsin mensubuyum. Cinsimin adından da anlaşıldığı üzere, üst tarafım mavi renklidir. Tahmin etmesi zor olmasa gerek, bu mavi renkten dolayı bizler mavi kelebek olarak adlandırılırız. Ana vatanımız Avrupa’dır. Ama baska bolgelerde yaşayan tanıdıklarım vardır."
      ],
      "metadata": {
        "id": "qsJU5olY3U_7"
      }
    },
    {
      "cell_type": "code",
      "source": [
        "isim=input(\"Isminiz: \")\n",
        "renk=input(\"Renginiz: \")\n",
        "cins=input(\"Cinsiniz: \")\n",
        "altcins=input(\"Alt cinsiniz: \")\n",
        "yer=input(\"Memleketiniz: \")\n",
        "print()\n",
        "\n",
        "print(f\"Merhaba, ben {isim}. Sizlere başımdan geçen bir olayı anlatmadan önce, kendimi tanıtmak istiyorum. Ben \\\"{altcins}\\\" adı verilen, {cins} familyasına ait bir alt cinsin mensubuyum. Cinsimin adından da anlaşıldığı üzere, üst tarafım {renk} renklidir. Tahmin etmesi zor olmasa gerek, bu {renk} renkten dolayı bizler {altcins} olarak adlandırılırız. Ana vatanımız {yer}’dır. Ama baska bolgelerde yaşayan tanıdıklarım vardır.\")\n",
        "\n",
        "print()"
      ],
      "metadata": {
        "colab": {
          "base_uri": "https://localhost:8080/"
        },
        "id": "4IsAaBWL3tQb",
        "outputId": "bd2ba478-bda5-4aca-8f5f-67e0780a9368"
      },
      "execution_count": null,
      "outputs": [
        {
          "output_type": "stream",
          "name": "stdout",
          "text": [
            "Isminiz: hüseyin\n",
            "Renginiz: Mavi\n",
            "Cinsiniz: erkek\n",
            "Alt cinsiniz: karadeniz\n",
            "Memleketiniz: ordu\n",
            "\n",
            "Merhaba, ben hüseyin. Sizlere başımdan geçen bir olayı anlatmadan önce, kendimi tanıtmak istiyorum. Ben \"karadeniz\" adı verilen, erkek familyasına ait bir alt cinsin mensubuyum. Cinsimin adından da anlaşıldığı üzere, üst tarafım Mavi renklidir. Tahmin etmesi zor olmasa gerek, bu Mavi renkten dolayı bizler karadeniz olarak adlandırılırız. Ana vatanımız ordu’dır. Ama baska bolgelerde yaşayan tanıdıklarım vardır.\n",
            "\n"
          ]
        }
      ]
    },
    {
      "cell_type": "markdown",
      "source": [
        "# **Homework**\n",
        "Bir sirketin insan kaynaklari calisanisin. Sirkette olusacak eleman ihtiyaclari icin ilan sablonu hazirliyorsun. f-stringleri kullanarak ilan sablonunu dinamik hale getirelim.\n",
        "\n",
        "Sube mudurleri sorulara cevap verince birebir asagidaki metin ekrana gelsin."
      ],
      "metadata": {
        "id": "16hel5T64Tjb"
      }
    },
    {
      "cell_type": "markdown",
      "source": [
        "    company = \"Skytech\"\n",
        "    name = \"Sam\"\n",
        "    city= \"Istanbul\"\n",
        "    min_age = 18\n",
        "    max_age = 30\n",
        "    skill1 = \"python\"\n",
        "    level1 = \"cok iyi\"\n",
        "    skill2 = \"HTML\"\n",
        "    level2 = \"iyi\"\n",
        "    skill3 = \"CSS\"\n",
        "    level3 = \"cok iyi\"\n",
        "    lower = 25000\n",
        "    upper = 32000"
      ],
      "metadata": {
        "id": "CUjrg8bO49qr"
      }
    },
    {
      "cell_type": "markdown",
      "source": [
        "Benim adim Sam, Skytech firmasinin HR uzmaniyim.\n",
        "\n",
        "Ise alinacak adaylarda aranan beceriler;\n",
        "\n",
        "18-30 yas araliginda, cok iyi seviyede python, iyi seviyede HTML ve cok iyi seviyede CSS bilen, Istanbul ya da cevresinde ikamet edebilecek adaylar aranmaktadir.\n",
        "\n",
        "Maas araligimiz aylik 25000-32000 TL."
      ],
      "metadata": {
        "id": "iQ8MsdpQ5PRD"
      }
    },
    {
      "cell_type": "code",
      "source": [
        "company = input(\"Sirketiniz: \")\n",
        "name = input(\"Isminiz: \")\n",
        "city= input(\"Sehriniz: \")\n",
        "min_age = input(\"Minimum yas: \")\n",
        "max_age = input(\"Maksimum yas: \")\n",
        "skill1 = input(\"1. beceri: \")\n",
        "level1 = input(\"1. becerinin seviyesi: \")\n",
        "skill2 = input(\"2. beceri: \")\n",
        "level2 = input(\"2. becerinin seviyesi: \")\n",
        "skill3 = input(\"3. beceri: \")\n",
        "level3 = input(\"3. becerinin seviyesi: \")\n",
        "lower = input(\"Minimum maas: \")\n",
        "upper = input(\"Maksimum maas: \")"
      ],
      "metadata": {
        "id": "nffYtcG85lKL"
      },
      "execution_count": null,
      "outputs": []
    },
    {
      "cell_type": "code",
      "source": [
        "print(f\"Benim adim {name}, {company} firmasinin HR uzmaniyim.\")\n",
        "print(f\"Ise alinacak adaylarda aranan beceriler;\")\n",
        "print(f\"{min_age}-{max_age} yas araliginda, {level1} seviyede {skill1}, {level2} seviyede {skill2} ve {level3} seviyede {skill3} bilen, {city} ya da cevresinde ikamet edebilecek adaylar aranmaktadir.\")\n",
        "print(f\"Maas araligimiz aylik {lower}-{upper}.\")"
      ],
      "metadata": {
        "id": "SgzWUv7d5zyq"
      },
      "execution_count": null,
      "outputs": []
    },
    {
      "cell_type": "markdown",
      "source": [
        "**Exercise**\n",
        "\n",
        "User'dan gun sayisi girmesini isteyin ve saniye sayisini yazdirin\n",
        "\n",
        "    Ornek output:\n",
        "    10 gunde toplam 864000 saniye vardir"
      ],
      "metadata": {
        "id": "p5eUxBRA596L"
      }
    },
    {
      "cell_type": "code",
      "source": [
        "gun=int(input(\"Gun sayisi giriniz: \"))\n",
        "\n",
        "print(f\"{gun} gunde toplam {gun*24*60*60} saniye vardir\")"
      ],
      "metadata": {
        "colab": {
          "base_uri": "https://localhost:8080/"
        },
        "id": "Pp16TOlK6HlL",
        "outputId": "9dbf5a12-3ad3-4127-da4a-b6b76db2a476"
      },
      "execution_count": null,
      "outputs": [
        {
          "output_type": "stream",
          "name": "stdout",
          "text": [
            "Gun sayisi giriniz: 25\n",
            "25 gunde toplam 2160000 saniye vardir\n"
          ]
        }
      ]
    },
    {
      "cell_type": "code",
      "source": [
        "age = input(\"Yasiniz nedir: \")"
      ],
      "metadata": {
        "colab": {
          "base_uri": "https://localhost:8080/"
        },
        "id": "kpPQUJMU6QgG",
        "outputId": "a9413330-4db5-40cf-829a-dbc56d64f99f"
      },
      "execution_count": null,
      "outputs": [
        {
          "name": "stdout",
          "output_type": "stream",
          "text": [
            "Yasiniz nedir: 40\n"
          ]
        }
      ]
    },
    {
      "cell_type": "markdown",
      "source": [
        "**Shorthand Notation:**\n",
        "\n",
        "toplam = toplam + sayi\n",
        "\n",
        "toplam += sayi"
      ],
      "metadata": {
        "id": "IXu0IKy_63Dz"
      }
    },
    {
      "cell_type": "code",
      "source": [
        "num = 3\n",
        "num += 2\n",
        "print(num)"
      ],
      "metadata": {
        "id": "sJ7pZNtK69m7"
      },
      "execution_count": null,
      "outputs": []
    },
    {
      "cell_type": "code",
      "source": [
        "num -= 4\n",
        "print(num)"
      ],
      "metadata": {
        "id": "ehnKdW8m7Bsb"
      },
      "execution_count": null,
      "outputs": []
    },
    {
      "cell_type": "code",
      "source": [
        "num *= 9\n",
        "print(num)"
      ],
      "metadata": {
        "id": "oNYBXf-N7E9K"
      },
      "execution_count": null,
      "outputs": []
    },
    {
      "cell_type": "code",
      "source": [
        "num /= 3\n",
        "print(num)"
      ],
      "metadata": {
        "id": "Apzur4at7IwD"
      },
      "execution_count": null,
      "outputs": []
    },
    {
      "cell_type": "markdown",
      "source": [
        "**Exercise:**\n",
        "\n",
        "Userdan 3 sayi alin ve carpimlarini yazdirin"
      ],
      "metadata": {
        "id": "zVohNfmT7NTr"
      }
    },
    {
      "cell_type": "code",
      "source": [
        "carpim = 1\n",
        "carpim *= int(input(\"1. sayiyi giriniz: \"))\n",
        "carpim *= int(input(\"2. sayiyi giriniz: \"))\n",
        "carpim *= int(input(\"3. sayiyi giriniz: \"))\n",
        "print(f\"Bu 3 sayinin carpimlari {carpim} yapar.\")"
      ],
      "metadata": {
        "id": "1OAokx_Z7ikk"
      },
      "execution_count": null,
      "outputs": []
    },
    {
      "cell_type": "markdown",
      "source": [
        "**Exercise**\n",
        "\n",
        "User'den ismini, dogum yilini ve herhangi bir yil sorun. Asagidaki gibi bir metin print edin:"
      ],
      "metadata": {
        "id": "J9BQtjDH7r6V"
      }
    },
    {
      "cell_type": "markdown",
      "source": [
        "    Merhaba Smt, 2019 yilinin sonunda 15 yasindaydin"
      ],
      "metadata": {
        "id": "1rMJ7emr7xlD"
      }
    },
    {
      "cell_type": "code",
      "source": [
        "isim = input(\"Isminizi giriniz: \")\n",
        "dogum = int(input(\"Dogum yilinizi giriniz: \"))\n",
        "sene = int(input(\"Herhangi bir yil giriniz: \"))\n",
        "print(f\"Merhaba {isim}, {sene} yilinin sonunda {sene-dogum} yasindaydin\")"
      ],
      "metadata": {
        "id": "Fru_SB6q74hj"
      },
      "execution_count": null,
      "outputs": []
    },
    {
      "cell_type": "markdown",
      "source": [
        "**Exercise**\n",
        "\n",
        "User'dan bes sayi isteyin ve toplamlariyla ortalmalarini print edin\n",
        "\n",
        "    1. sayi: 12\n",
        "    2. sayi: 25\n",
        "    3. sayi: 14\n",
        "    4. sayi: 8\n",
        "    5. sayi: 6\n",
        "    Bu sayilarin toplami: 65 ortalamalari: 13.0"
      ],
      "metadata": {
        "id": "7LgWFNkQ78bk"
      }
    },
    {
      "cell_type": "code",
      "source": [
        "s1= int(input(\"1. sayiyi giriniz: \"))\n",
        "s2= int(input(\"2. sayiyi giriniz: \"))\n",
        "s3= int(input(\"3. sayiyi giriniz: \"))\n",
        "s4= int(input(\"4. sayiyi giriniz: \"))\n",
        "s5= int(input(\"5. sayiyi giriniz: \"))\n",
        "sum = s1+s2+s3+s4+s5\n",
        "\n",
        "print(f\"Bu sayilarin toplami: {sum} ortalamalari: {sum/5}\")"
      ],
      "metadata": {
        "id": "Q0Ebsg_G8GRr"
      },
      "execution_count": null,
      "outputs": []
    },
    {
      "cell_type": "markdown",
      "source": [
        "**Exercise: BMI Hesaplama**\n",
        "\n",
        "Kullanicidan boyunu ve kilosunu ogrenelim, vucut kutle endeksini hesaplayalim.\n",
        "\n",
        "    NOT: BMI, kilosunu boyunun metre cinsinden degerinin karesine bolerek bulunur."
      ],
      "metadata": {
        "id": "OmSLL9sI8PDy"
      }
    },
    {
      "cell_type": "code",
      "source": [
        "kilo = float(input(\"Kilonuzu kg cinsinden giriniz: \"))\n",
        "boy = float(input(\"Boyunuzu m cinsinden giriniz: \"))\n",
        "bmi = kilo / (boy**2)\n",
        "\n",
        "print(f\"BMI endeksiniz: {bmi}\")"
      ],
      "metadata": {
        "id": "UQ_Awkrl8X2r"
      },
      "execution_count": null,
      "outputs": []
    },
    {
      "cell_type": "markdown",
      "source": [
        "# **Homework**\n",
        "Userdan 2 sayi alin, toplamlarini ve carpimlarini yazdirin.\n",
        "\n",
        "    Ornek output:\n",
        "    Birinci sayi: 3\n",
        "    Ikinci sayi: 5\n",
        "    3 ve 5'nin toplami: 8\n",
        "    3 ve 5'nin carpimi: 15\n",
        "\n",
        "**Homework**\n",
        "\n",
        "User'dan haftada kac kere lokantaya gittigini sorun, lokantada her seferinde ne kadar harcadigini sorun, ve haftalik market alisverisi ne kadar tutuyor diye sorun.\n",
        "\n",
        "gunluk ve haftalik harcamasini yazdirin!"
      ],
      "metadata": {
        "id": "pHG6fKIb8u-c"
      }
    },
    {
      "cell_type": "markdown",
      "source": [
        "# **Koşullu İfadeler (Conditional Statements)**\n",
        "Şimdiye kadar yazdığımız her program sırayla satır satır yürütüldü. Bir program her çalıştırıldığında her kod satırını yürütmek yerine, programın yalnızca belirli durumlarda çalıştırılan bölümlerini oluşturmak genellikle yararlıdır."
      ],
      "metadata": {
        "id": "tiT4ZGsg9OPX"
      }
    },
    {
      "cell_type": "code",
      "source": [
        "yas = int(input(\"Yasinizi giriniz: \"))\n",
        "\n",
        "if yas>24:\n",
        "  print(\"Ooooooo tam yasindasin\")\n",
        "  print(\"Gel beraber seninle oyun oynayalim\")\n",
        "  print(\"Hüseyin hocamin yeri de bir harikaymis\")\n",
        "  print(\"Buraya bir gelen pisman, bir de gelmeyen!\")\n",
        "\n",
        "print(\"Siradaki musteri lutfen\")"
      ],
      "metadata": {
        "colab": {
          "base_uri": "https://localhost:8080/"
        },
        "id": "EXftmF2i9fsG",
        "outputId": "e7b08d18-ea55-4530-b601-6adcef2012f9"
      },
      "execution_count": null,
      "outputs": [
        {
          "output_type": "stream",
          "name": "stdout",
          "text": [
            "Yasinizi giriniz: 40\n",
            "Ooooooo tam yasindasin\n",
            "Gel beraber seninle oyun oynayalim\n",
            "Hüseyin hocamin yeri de bir harikaymis\n",
            "Buraya bir gelen pisman, bir de gelmeyen!\n",
            "Siradaki musteri lutfen\n"
          ]
        }
      ]
    },
    {
      "cell_type": "markdown",
      "source": [
        "**Kosullu yapilar kurulurken, olmazsa olmaz;**\n",
        "\n",
        "- ilk basta if anahtar kelimesi ile baslanir,\n",
        "- if'ten sonra genelde iki degerin birbiriyle kiyaslanmasi gibi bir kosul ifadesi takip eder.\n",
        "- Kolon :\n",
        "- girinti (indentation)\n",
        "- kod blogu"
      ],
      "metadata": {
        "id": "ACtedla79zH7"
      }
    },
    {
      "cell_type": "code",
      "source": [
        "if yas>24\n",
        "  print(\"Ooooooo tam yasindasin\")\n",
        "  print(\"Gel beraber seninle kumar oynayalim\")\n",
        "  print(\"Tugba hocamin kumarhanesi de bir harikaymis\")\n",
        "  print(\"Buraya bir gelen pisman, bir de gelmeyen!\")"
      ],
      "metadata": {
        "colab": {
          "base_uri": "https://localhost:8080/",
          "height": 110
        },
        "id": "51UWNa_S99e2",
        "outputId": "2db96a38-768c-41f5-edfd-34cf6a7b1e46"
      },
      "execution_count": null,
      "outputs": [
        {
          "output_type": "error",
          "ename": "SyntaxError",
          "evalue": "expected ':' (<ipython-input-65-911456f8362a>, line 1)",
          "traceback": [
            "\u001b[0;36m  File \u001b[0;32m\"<ipython-input-65-911456f8362a>\"\u001b[0;36m, line \u001b[0;32m1\u001b[0m\n\u001b[0;31m    if yas>24\u001b[0m\n\u001b[0m             ^\u001b[0m\n\u001b[0;31mSyntaxError\u001b[0m\u001b[0;31m:\u001b[0m expected ':'\n"
          ]
        }
      ]
    },
    {
      "cell_type": "markdown",
      "source": [
        "kosuldan sonra kolon isareti konulmamasi halinde pythonin kafasi karisir, hata verir."
      ],
      "metadata": {
        "id": "z_PQmtRj-BCT"
      }
    },
    {
      "cell_type": "markdown",
      "source": [
        "# **Karşılaştırma Operatorleri (Comparison Operators)**\n",
        "\n",
        "    Operator      Anlami                          Ornek\n",
        "    ---------     -------                        --------\n",
        "      ==          Equal to                        a == b\n",
        "                  Esittir\n",
        "\n",
        "      !=          Not equal to                    a != b\n",
        "                  Esit degildir\n",
        "\n",
        "      >           Greater than                    a > b\n",
        "                  Buyuktur\n",
        "\n",
        "      >=          Greater than or equal to        a >= b\n",
        "                  Buyuk esittir\n",
        "\n",
        "      <           Less than                       a < b\n",
        "                  Kucuktur\n",
        "\n",
        "      <=          Less than or equal to           a <= b\n",
        "                  Kucuk esittir"
      ],
      "metadata": {
        "id": "KcMFivt2-GJe"
      }
    }
  ]
}